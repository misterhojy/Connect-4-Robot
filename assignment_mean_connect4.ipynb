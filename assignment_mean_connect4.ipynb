{
  "cells": [
    {
      "cell_type": "markdown",
      "metadata": {
        "id": "WyISr3c6L8cY"
      },
      "source": [
        "# Adversarial Search: Playing \"Mean\" Connect 4\n",
        "\n",
        "\n",
        "## Instructions\n",
        "\n",
        "All student names in group: Hojat Jaffary, Dong Liang, Kevin Zheng\n",
        "\n",
        "I understand that my submission needs to be my own group's work: HJ, DL, KZ\n",
        "\n",
        "I understand that ChatGPT / Copilot / other AI tools are not allowed: HJ, DL, KZ\n",
        "\n",
        "Points: 10\n",
        "\n",
        "Complete this notebook and submit it (save/print as pdf). The notebook needs to be a complete project report with your implementation, documentation including a short discussion of how your implementation works and your design choices, and experimental results (e.g., tables and charts with simulation results) with a short discussion of what they mean. Use the provided notebook cells and insert additional code and markdown cells as needed.\n",
        "\n",
        "## Introduction\n",
        "\n",
        "You will implement different versions of agents that play \"Mean\" Connect 4:\n",
        "\n",
        "> \"Connect 4 is a two-player connection board game, in which the players choose a color and then take turns dropping colored discs into a seven-column, six-row vertically suspended grid. The pieces fall straight down, occupying the lowest available space within the column. The objective of the game is to be the first to form a horizontal, vertical, or diagonal line of four of one's own discs.\" (see [Connect Four on Wikipedia](https://en.wikipedia.org/wiki/Connect_Four))\n",
        "\n",
        "> **The mean part:** This game has an additional rule. Every time it is a player's turn, the player can decide to instead of playing a new disk, take a bottom row disk of the opponent and place it back in the top of the same column. All disks above the removed disk will fall down one position and the removed one will be placed on top. Note that a player can only move an _opponent's disc_ that is in the _bottom row_ of the board. **Further, you are not allowed to play a mean move if your opponent just played one.** This ensures the game will end at some point. This also may affect the definition of a state, compared with standard Connect 4.\n",
        "\n",
        "If a mean move causes both players to win, the game immediately ends and it is a tie, even if one player has more connect-4s than the other one. If a mean move causes one player to win, then the game also ends and the player with the connect-4 is the winner.\n",
        "\n",
        "Note that normal [Connect-4 has been solved](https://en.wikipedia.org/wiki/Connect_Four#Mathematical_solution)\n",
        "in 1988. A connect-4 solver with a discussion of how to solve different parts of the problem can be found here: https://connect4.gamesolver.org/en/"
      ]
    },
    {
      "cell_type": "markdown",
      "metadata": {
        "id": "zuWbcK6gL8cZ"
      },
      "source": [
        "## Task 1: Defining the Search Problem [1 point]\n",
        "\n",
        "Define the components of the search problem associated with this game:\n",
        "\n",
        "* Initial state\n",
        "* Actions\n",
        "* Transition model\n",
        "* Test for the terminal state\n",
        "* Utility for terminal states"
      ]
    },
    {
      "cell_type": "markdown",
      "metadata": {
        "id": "7HYbFm7C5-Lw"
      },
      "source": [
        "## Defining Components\n",
        "\n",
        "### Initial State\n",
        "--------------------\n",
        "\n",
        "Initial state of the problem starts with an empty 7 column and 6 row game board. Allowing for the first move to be putting a disk in any of the bottom rows\n",
        "\n",
        "`initial_state = empty_board(shape=(6,7))`\n",
        "\n",
        "### Actions\n",
        "--------------------\n",
        "The actions a player can make are:\n",
        "\n",
        "- Placing Disc\n",
        "    - for any column in columns and `not isFull(column)`\n",
        "    - 0 <= column < columns\n",
        "- Mean Move\n",
        "    - `if prev_mean = False`\n",
        "    - remove opponents botton disc making the whole column go down one then place disc back on top\n",
        "\n",
        "### Transition Model\n",
        "--------------------\n",
        "Since this problem is in a known environment, the agent can predict the outcome of action as it knows the transition function but each action will have an effect on the outcome of the game. The transition function is an outcome of a certain action performed on the agent and its current state. To go from state A -> B, at state A there must be some action that causes a transition from one state to another.\n",
        "\n",
        "**Player(1) chooses column i to place disc**\n",
        "- `open = lowest_open(i)`\n",
        "- `board[open][i] = 1`\n",
        "\n",
        "Whatever column chosen, the lowest open row is now filled with players inidcator, A -> B\n",
        "\n",
        "**Player(1) chooses mean move on column i**\n",
        "- `removed = board[6][i]`\n",
        "- `board = mean(i)`\n",
        "- `open = lowest_open(i)`\n",
        "- `board[open][i] = removed`\n",
        "\n",
        "Whatever column chosen with an opponent piece on bottom, piece is removed all rows in that column go down and the removed piece goes to the top\n",
        "\n",
        "### Test for the terminal state\n",
        "-------------------\n",
        "TERMINATING STATES\n",
        "- If opponent has `[horizontal, vertical, diagonal]` one of which must be 4.\n",
        "- If player has `[horizontal, vertical, diagonal]` one of which must be 4.\n",
        "- If mean move causes both players to have connect 4 TIE.\n",
        "\n",
        "### Utility for terminal states\n",
        "-----------------\n",
        "- If a player achieves a connect-4 (horizontal, vertical, or diagonal), they win the game. Therefore, the utility for a terminal state where one player has a connect-4 is +1 for the player who achieved the connect-4 and -1 for the opponent.\n",
        "\n",
        "- If both players achieve a connect-4 as a result of a mean move, the game ends in a tie. Therefore, the utility for this terminal state is 0 for both players.\n",
        "\n",
        "- If a player achieves a connect-4 as a result of a mean move, they win the game. Therefore, the utility for this terminal state is +1 for the player who achieved the connect-4 and -1 for the opponent.\n"
      ]
    },
    {
      "cell_type": "markdown",
      "metadata": {
        "id": "cHDORt8_L8cg"
      },
      "source": [
        "How big is the state space? Give an estimate and explain it."
      ]
    },
    {
      "cell_type": "markdown",
      "metadata": {
        "id": "tFbbRbi8J1kE"
      },
      "source": [
        "**Initial**\n",
        "There are 7 columns and 6 rows, resulting into 42 slots. A slot can be either empty, player 1, or player 2. a configuration of 3^42 with out considering a mean move.\n",
        "\n",
        "**Considering Mean move**\n",
        "The amount of mean moves that can be done in a game is varying as it depends on how many discs of the opponent is on the bottom so we can set this variable to N. The number of combination of mean moves is 2^N.\n",
        "\n",
        "The state space is around 3^42 * 2^N where N is a variable that varies depending on the progress of the game"
      ]
    },
    {
      "cell_type": "markdown",
      "metadata": {
        "id": "7ci9AS2QL8ch"
      },
      "source": [
        "How big is the game tree that minimax search will go through? Give an estimate and explain it."
      ]
    },
    {
      "cell_type": "markdown",
      "metadata": {
        "id": "R20d28k64yZO"
      },
      "source": [
        "The game tree that minimax search will go through is very large because the branching factor is large and varying.\n",
        "\n",
        "The branching factor at each level is the number of columns plus the number of positions where mean moves are possible. (7 + N) is the branching factor, where N is the variable that varies depending on progress of the game.\n",
        "\n",
        "To estimate of Max depth of the tree with out mean rule is 42. The game tree will be larger than 7^42 which is about 311,973,482,284,542,371,301,330,321,821,976,049.\n",
        "\n",
        "This is not considering the larger branching factor with the mean rule"
      ]
    },
    {
      "cell_type": "markdown",
      "metadata": {
        "id": "u66LNfUEL8ci"
      },
      "source": [
        "## Task 2: Game Environment and Random Agent [3 point]\n",
        "\n",
        "You can use a numpy character array as the board. Note that the following function can create boards of different sizes."
      ]
    },
    {
      "cell_type": "code",
      "execution_count": null,
      "metadata": {
        "colab": {
          "base_uri": "https://localhost:8080/"
        },
        "id": "gFoRCZefL8cj",
        "outputId": "5cc82216-2644-4435-b020-2fd8fd28ea4f"
      },
      "outputs": [
        {
          "output_type": "stream",
          "name": "stdout",
          "text": [
            "[[0 0 0 0 0 0 0]\n",
            " [0 0 0 0 0 0 0]\n",
            " [0 0 0 0 0 0 0]\n",
            " [0 0 0 0 0 0 0]\n",
            " [0 0 0 0 0 0 0]\n",
            " [0 0 0 0 0 0 0]]\n"
          ]
        }
      ],
      "source": [
        "import numpy as np\n",
        "\n",
        "def empty_board(shape=(6, 7)):\n",
        "    return np.full(shape=shape, fill_value=0)\n",
        "\n",
        "print(empty_board())"
      ]
    },
    {
      "cell_type": "markdown",
      "metadata": {
        "id": "GCCwVya8L8cj"
      },
      "source": [
        "Instead of colors (red and yellow), you can use 1 and -1 to represent the players Max and Min. Make sure that your agent functions all have the from: `agent_type(state, player = 1)`, where board is the current board position and player is the player (1, -1) whose next move it is and who the agent should play."
      ]
    },
    {
      "cell_type": "markdown",
      "metadata": {
        "id": "DtsGKQPsL8ck"
      },
      "source": [
        "Visualization code by Randolph Rankin:"
      ]
    },
    {
      "cell_type": "code",
      "execution_count": null,
      "metadata": {
        "colab": {
          "base_uri": "https://localhost:8080/",
          "height": 430
        },
        "id": "dRChZkdZL8ck",
        "outputId": "7bcb2cc0-e0e2-4875-c470-1fe262361f84",
        "scrolled": true
      },
      "outputs": [
        {
          "output_type": "display_data",
          "data": {
            "text/plain": [
              "<Figure size 640x480 with 1 Axes>"
            ],
            "image/png": "[encoded data removed]"
          },
          "metadata": {}
        }
      ],
      "source": [
        "import matplotlib.pyplot as plt\n",
        "\n",
        "def visualize(board):\n",
        "    plt.axes()\n",
        "    rectangle=plt.Rectangle((-0.5,len(board)*-1+0.5),len(board[0]),len(board),fc='blue')\n",
        "    circles=[]\n",
        "    for i,row in enumerate(board):\n",
        "        for j,val in enumerate(row):\n",
        "            color='white' if val==0 else 'red' if val==1 else 'yellow'\n",
        "            circles.append(plt.Circle((j,i*-1),0.4,fc=color))\n",
        "\n",
        "    plt.gca().add_patch(rectangle)\n",
        "    for circle in circles:\n",
        "        plt.gca().add_patch(circle)\n",
        "\n",
        "    plt.axis('scaled')\n",
        "    plt.show()\n",
        "\n",
        "board_ex = [[0, 0, 0, 0, 0, 0, 0],\n",
        "         [0, 0, 0, 0, 0, 0, 0],\n",
        "         [0, 0, 0, 0, 0, 0, 0],\n",
        "         [0, 0, 0, 1, 0, 0, 0],\n",
        "         [0, 0, 0, 1, 0, 0, 0],\n",
        "         [0,-1,-1, 1,-1, 0, 0]]\n",
        "\n",
        "visualize(board_ex)"
      ]
    },
    {
      "cell_type": "markdown",
      "metadata": {
        "id": "ZOa_fihRL8ck"
      },
      "source": [
        "Implement helper functions for:\n",
        "\n",
        "* The transition model $result(s, a)$.\n",
        "* The utility function $utility(s)$.\n",
        "* Check for terminal states $terminal(s)$.\n",
        "* A check for available actions in each state $actions(s)$.\n",
        "\n",
        "Make sure that all these functions work with boards of different sizes (number of columns and rows)."
      ]
    },
    {
      "cell_type": "code",
      "execution_count": null,
      "metadata": {
        "id": "8sDMBWFtL8ck"
      },
      "outputs": [],
      "source": [
        "PLAYER_1 = 1 # RED\n",
        "PLAYER_2 = -1 # YELLOW\n",
        "prev_mean = False\n",
        "\n",
        "# helper function for transition model result(s,a)\n",
        "# parameters:\n",
        "# board\n",
        "# player that did this (1,-1)\n",
        "# column where action is taking place at\n",
        "# mean or not\n",
        "#return -1 if error return board success\n",
        "def result(board, player, action):\n",
        "    rows = len(board)\n",
        "    column = action[1]\n",
        "\n",
        "    new_board = [row[:] for row in board]\n",
        "\n",
        "    if action[0] == player * -1:\n",
        "        # if this was a mean move\n",
        "        if (new_board[rows - 1][column] != (player * -1)):    # opponents disc not there\n",
        "            return new_board\n",
        "        else:\n",
        "            prev = None\n",
        "            top = None\n",
        "            for i in range(len(new_board)): # move all pieces down and place piece on top\n",
        "                if (new_board[i][column] != 0):\n",
        "                    if (top == None): #first disc seen\n",
        "                        top = i\n",
        "                        prev = new_board[i][column]\n",
        "                    else:\n",
        "                        temp = new_board[i][column]\n",
        "                        new_board[i][column] = prev\n",
        "                        prev = temp\n",
        "                        if (i == rows - 1):  # if at last replace the first with it\n",
        "                            new_board[top][column] = prev\n",
        "            return new_board\n",
        "    else:\n",
        "        # this is not a mean move\n",
        "        if ((column < 0) or (column > len(new_board[0]) - 1) or (board[0][column] != 0)):   # column bounds invalid or column full error\n",
        "            return new_board\n",
        "        # find lowest available slot in the row\n",
        "        row = rows - 1\n",
        "        while new_board[row][column]:\n",
        "            row -= 1\n",
        "        new_board[row][column] = player\n",
        "        return new_board\n",
        "\n",
        "# helper function for checking available actions in each state actions(s)\n",
        "# parameters:\n",
        "# board\n",
        "# player that is choosing action (1,-1)\n",
        "# prev_mean is true then cant do it again\n",
        "# return actions\n",
        "def actions(board, player):\n",
        "    global prev_mean\n",
        "    actions = []\n",
        "    columns = len(board[0])\n",
        "    last_row = len(board) - 1\n",
        "    for i in range(columns):\n",
        "        if (board[0][i] == 0):  # if the column is empty at top then can insert a disc in it\n",
        "            actions.append((player, i))\n",
        "        if (prev_mean == False):        #if mean was not done before\n",
        "            if (board[last_row][i] == (player * -1)):   # check for opponent pieces on the bottom\n",
        "                actions.append((player * -1,i))\n",
        "    return actions\n",
        "\n",
        "\n",
        "# helper function to check if there are any terminal states terminal(s)\n",
        "# parameters:\n",
        "# board\n",
        "# return if it is in terminal state or not\n",
        "# Function to determine if the state is a terminal state\n",
        "def terminal(board):\n",
        "    rows = len(board)\n",
        "    columns = len(board[0])\n",
        "\n",
        "    for row in range(rows):    # check horizontal\n",
        "        for col in range(columns - 3):\n",
        "            if board[row][col] == board[row][col+1] == board[row][col+2] == board[row][col+3] == PLAYER_1:\n",
        "                return True\n",
        "            if board[row][col] == board[row][col+1] == board[row][col+2] == board[row][col+3] == PLAYER_2:\n",
        "                return True\n",
        "\n",
        "    for col in range(columns): # check vertical\n",
        "        for row in range(rows - 3):\n",
        "            if board[row][col] == board[row+1][col] == board[row+2][col] == board[row+3][col] == PLAYER_1:\n",
        "                return True\n",
        "            if board[row][col] == board[row+1][col] == board[row+2][col] == board[row+3][col] == PLAYER_2:\n",
        "                return True\n",
        "\n",
        "    for row in range(3, rows):  #diagonal\n",
        "        for col in range(columns - 3):\n",
        "            if board[row][col] == board[row-1][col+1] == board[row-2][col+2] == board[row-3][col+3] == PLAYER_1:\n",
        "                return True\n",
        "            if board[row][col] == board[row-1][col+1] == board[row-2][col+2] == board[row-3][col+3] == PLAYER_2:\n",
        "                return True\n",
        "\n",
        "    for row in range(rows - 3): #diagonal\n",
        "        for col in range(columns - 3):\n",
        "            if board[row][col] == board[row+1][col+1] == board[row+2][col+2] == board[row+3][col+3] == PLAYER_1:\n",
        "                return True\n",
        "            if board[row][col] == board[row+1][col+1] == board[row+2][col+2] == board[row+3][col+3] == PLAYER_2:\n",
        "                return True\n",
        "\n",
        "    for row in range(rows): # Check if the board is full\n",
        "        for col in range(columns):\n",
        "            if board[row][col] == 0:\n",
        "                return False\n",
        "\n",
        "    # If none of the above conditions are met, the game is a tie\n",
        "    return prev_mean\n",
        "\n",
        "# helper function to get utility utility(s)\n",
        "def utility(board):\n",
        "    player_1_wins = False\n",
        "    player_2_wins = False\n",
        "\n",
        "    if terminal(board):\n",
        "        for row in board:\n",
        "            for i in range(len(row) - 3):\n",
        "                if row[i] == row[i + 1] == row[i + 2] == row[i + 3] == PLAYER_1:\n",
        "                    player_1_wins = True\n",
        "                elif row[i] == row[i + 1] == row[i + 2] == row[i + 3] == PLAYER_2:\n",
        "                    player_2_wins = True\n",
        "\n",
        "        for col in range(len(board[0])):\n",
        "            column = [board[row][col] for row in range(len(board))]\n",
        "            for i in range(len(column) - 3):\n",
        "                if column[i] == column[i + 1] == column[i + 2] == column[i + 3] == PLAYER_1:\n",
        "                    player_1_wins = True\n",
        "                elif column[i] == column[i + 1] == column[i + 2] == column[i + 3] == PLAYER_2:\n",
        "                    player_2_wins = True\n",
        "\n",
        "        for row in range(3, len(board)):\n",
        "            for col in range(len(board[0]) - 3):\n",
        "                if board[row][col] == board[row - 1][col + 1] == board[row - 2][col + 2] == board[row - 3][col + 3] == PLAYER_1:\n",
        "                    player_1_wins = True\n",
        "                elif board[row][col] == board[row - 1][col + 1] == board[row - 2][col + 2] == board[row - 3][col + 3] == PLAYER_2:\n",
        "                    player_2_wins = True\n",
        "\n",
        "        for row in range(len(board) - 3):\n",
        "            for col in range(len(board[0]) - 3):\n",
        "                if board[row][col] == board[row + 1][col + 1] == board[row + 2][col + 2] == board[row + 3][col + 3] == PLAYER_1:\n",
        "                    player_1_wins = True\n",
        "                elif board[row][col] == board[row + 1][col + 1] == board[row + 2][col + 2] == board[row + 3][col + 3] == PLAYER_2:\n",
        "                    player_2_wins = True\n",
        "\n",
        "        if player_1_wins and player_2_wins:\n",
        "            return 0\n",
        "        if player_1_wins:\n",
        "            return 1\n",
        "        if player_2_wins:\n",
        "            return -1\n",
        "\n",
        "        return 0\n",
        "    else:\n",
        "        return None"
      ]
    },
    {
      "cell_type": "markdown",
      "metadata": {
        "id": "8T7SYQM4L8cl"
      },
      "source": [
        "Implement an agent that plays randomly. Make sure the agent function receives as the percept the game state and returns a valid action. Use an agent function definition with the following signature (arguments):\n",
        "\n",
        "`def random_player(state, player = None): ...`\n",
        "\n",
        "The argument `player` is used for agents that do not store what side they are playing. The value passed on by the environment should be 1 ot -1 for playerred and yellow, respectively.  See [Experiments section for tic-tac-toe](https://nbviewer.org/github/mhahsler/CS7320-AI/blob/master/Games/tictactoe_and_or_tree_search.ipynb#Experiments) for an example."
      ]
    },
    {
      "cell_type": "code",
      "execution_count": null,
      "metadata": {
        "id": "g0uUKNKNL8cl"
      },
      "outputs": [],
      "source": [
        "def random_player(state,player = None):\n",
        "    possible_actions = actions(state, player)               # all possible actions and also check if opponent did a mean move\n",
        "    random_index = np.random.randint(len(possible_actions))    # get random index\n",
        "    random_action = possible_actions[random_index]             # get random action\n",
        "    return random_action\n"
      ]
    },
    {
      "cell_type": "markdown",
      "metadata": {
        "id": "rS3yOFlbL8cl"
      },
      "source": [
        "Let two random agents play against each other 1000 times. Look at the [Experiments section for tic-tac-toe](https://nbviewer.org/github/mhahsler/CS7320-AI/blob/master/Games/tictactoe_and_or_tree_search.ipynb#Experiments) to see how the environment uses the agent functions to play against each other.\n",
        "\n",
        "How often does each player win? Is the result expected?"
      ]
    },
    {
      "cell_type": "code",
      "execution_count": null,
      "metadata": {
        "id": "55tvNH3vL8cl"
      },
      "outputs": [],
      "source": [
        "# red is 1, PLAYER_1\n",
        "# yellow is -1, PLAYER_2\n",
        "def play(p1, p2, N = 1000):\n",
        "    global prev_mean\n",
        "    score_board = {p1: 0, p2: 0, 0: 0} # count\n",
        "\n",
        "    for i in range(N):  # 1000 time game\n",
        "        board = empty_board()   # each game empty board\n",
        "        prev_mean = False       # no prev mean\n",
        "        player = PLAYER_1   #start with player 1 aka red\n",
        "\n",
        "        while True:\n",
        "            random_action = random_player(board, player)   # player does random action\n",
        "            if random_action[0] == player * -1:\n",
        "                prev_mean = True    # if it was a mean move then set to true\n",
        "            else:\n",
        "                prev_mean = False\n",
        "\n",
        "            new_board = result(board, player, random_action)    #update board\n",
        "            board = new_board\n",
        "            if terminal(board): # if at a end game point\n",
        "                score = utility(board) # see if red, yellow or draw\n",
        "                score_board[score] += 1\n",
        "                break\n",
        "\n",
        "            player = player * -1 # switch player\n",
        "\n",
        "    return score_board"
      ]
    },
    {
      "cell_type": "code",
      "execution_count": null,
      "metadata": {
        "colab": {
          "base_uri": "https://localhost:8080/"
        },
        "id": "HAIeKAG0f8U0",
        "outputId": "7528b3ee-56e4-4973-c393-4d873e6657d2"
      },
      "outputs": [
        {
          "output_type": "stream",
          "name": "stdout",
          "text": [
            "{1: 627, -1: 355, 0: 18}\n"
          ]
        }
      ],
      "source": [
        "results = play(PLAYER_1, PLAYER_2)\n",
        "print(results)"
      ]
    },
    {
      "cell_type": "markdown",
      "metadata": {
        "id": "nTPTQp6Rw4dA"
      },
      "source": [
        "Player 1 wins more games out of a 1000 compared to Player 2. On average there is about 20 ties, but Player 1 consistently wins around 300 more games. These results are not expected because these agents are following the same algorithm of randomness so I wouldn't see why an agent consistently beats another. Could be because Player 1 starts."
      ]
    },
    {
      "cell_type": "markdown",
      "metadata": {
        "id": "DvzOxRDpL8cm"
      },
      "source": [
        "## Task 3: Minimax Search with Alpha-Beta Pruning [3 points]\n",
        "\n",
        "### Implement the search starting.\n",
        "\n",
        "Implement the search starting from a given state and specifying the player and put it into an agent function.\n",
        "You can use code from the [tic-tac-toe example](https://nbviewer.org/github/mhahsler/CS7320-AI/blob/master/Games/tictactoe_alpha_beta_tree_search.ipynb).\n",
        "\n",
        "__Notes:__\n",
        "* Make sure that all your agent functions have a signature consistent with the random agent above.\n",
        "* The search space for a $6 \\times 7$ board is large. You can experiment with smaller boards (the smallest is $4 \\times 4$) and/or changing the winning rule to connect 3 instead of 4."
      ]
    },
    {
      "cell_type": "code",
      "execution_count": null,
      "metadata": {
        "id": "GJ2xQLrWL8cm"
      },
      "outputs": [],
      "source": [
        "import math\n",
        "# global variables\n",
        "DEBUG = 0 # 1 ... count nodes, 2 ... debug each node\n",
        "COUNT = 0\n",
        "\n",
        "def alpha_beta_search(board, player = PLAYER_1):\n",
        "    global DEBUG, COUNT, prev_mean\n",
        "    COUNT = 0\n",
        "    original_prev_mean = prev_mean\n",
        "\n",
        "    value, move = max_value_ab(board, player, -math.inf, +math.inf)\n",
        "\n",
        "    # if DEBUG >= 1: print(f\"Number of nodes searched: {COUNT}\")\n",
        "\n",
        "    prev_mean = original_prev_mean\n",
        "    return { \"move\": move, \"value\": value }\n",
        "\n",
        "def max_value_ab(board, player, alpha, beta):\n",
        "    global DEBUG, COUNT, prev_mean\n",
        "    COUNT += 1\n",
        "    original_prev_mean = prev_mean\n",
        "\n",
        "    # return utility of state is a terminal state\n",
        "    v = utility(board)\n",
        "    if DEBUG >= 2: print(f\"max: {board} [alpha,beta]=[{alpha},{beta}] v={v}\")\n",
        "    if v is not None:\n",
        "        if DEBUG >= 2: print(f\"     found terminal state. backtracking.\")\n",
        "        return v, None\n",
        "\n",
        "    v, move = -math.inf, None\n",
        "\n",
        "    # check all possible actions in the state, update alpha and return move with the largest value\n",
        "    for a in actions(board, player):\n",
        "        if a[0] == player * -1:\n",
        "            prev_mean = True\n",
        "        else:\n",
        "            prev_mean = False\n",
        "\n",
        "        new_board = result(board, player, a)\n",
        "        v2, a2 = min_value_ab(new_board, (player * -1), alpha, beta)\n",
        "        if DEBUG >= 2: print(f\"max: {board} (backtracked) [alpha,beta]=[{alpha},{beta}] v={v2}\")\n",
        "\n",
        "        if v2 > v:\n",
        "            v, move = v2, a\n",
        "            alpha = max(alpha, v)\n",
        "        if v >= beta:\n",
        "            if DEBUG >= 2: print(f\"     v>=beta ({v}>={beta}): pruning remaining subtree (actions). backtracking.\")\n",
        "            prev_mean = original_prev_mean\n",
        "            return v, move\n",
        "\n",
        "    prev_mean = original_prev_mean\n",
        "    return v, move\n",
        "\n",
        "def min_value_ab(board, player, alpha, beta):\n",
        "    \"\"\"opponent's best response.\"\"\"\n",
        "    global DEBUG, COUNT, prev_mean\n",
        "    COUNT += 1\n",
        "    original_prev_mean = prev_mean\n",
        "\n",
        "    # return utility of state is a terminal state\n",
        "    v = utility(board)\n",
        "    if DEBUG >= 2: print(f\"min: {board} [alpha,beta]=[{alpha},{beta}] v={v}\")\n",
        "    if v is not None:\n",
        "        if DEBUG >= 2: print(f\"     found terminal state. backtacking.\")\n",
        "        return v, None\n",
        "\n",
        "    v, move = +math.inf, None\n",
        "\n",
        "    # check all possible actions in the state, update beta and return move with the smallest value\n",
        "    for a in actions(board, player):\n",
        "        if a[0] == player * -1:\n",
        "            prev_mean = True\n",
        "        else:\n",
        "            prev_mean = False\n",
        "\n",
        "        new_board = result(board, player, a)\n",
        "        v2, a2 = max_value_ab(new_board, (player * -1), alpha, beta)\n",
        "        if DEBUG >= 2: print(f\"min: {board} (backtracked) [alpha,beta]=[{alpha},{beta}] v={v2}\")\n",
        "\n",
        "        if v2 < v:\n",
        "            v, move = v2, a\n",
        "            beta = min(beta, v)\n",
        "        if v <= alpha:\n",
        "            if DEBUG >= 2: print(f\"     v<=alpha ({v}<={alpha}): pruning remaining subtree (actions). backtracking.\")\n",
        "            prev_mean = original_prev_mean\n",
        "            return v, move\n",
        "\n",
        "    prev_mean = original_prev_mean\n",
        "    return v, move\n",
        "\n",
        "\n",
        "def smart_player(board, player = None):\n",
        "    result = alpha_beta_search(board, player)\n",
        "    return result['move']"
      ]
    },
    {
      "cell_type": "markdown",
      "metadata": {
        "id": "XQeK9qFXL8cm"
      },
      "source": [
        "Experiment with some manually created boards (at least 5) to check if the agent spots winning opportunities."
      ]
    },
    {
      "cell_type": "code",
      "execution_count": null,
      "metadata": {
        "colab": {
          "base_uri": "https://localhost:8080/",
          "height": 447
        },
        "id": "iqRbK3uLHuXm",
        "outputId": "93464ba5-cdf3-445e-e08f-7a976efc53c4"
      },
      "outputs": [
        {
          "output_type": "display_data",
          "data": {
            "text/plain": [
              "<Figure size 640x480 with 1 Axes>"
            ],
            "image/png": "[encoded data removed]"
          },
          "metadata": {}
        },
        {
          "output_type": "stream",
          "name": "stdout",
          "text": [
            "(1, 0)\n"
          ]
        }
      ],
      "source": [
        "board1 = [[0, 0, 0, 0],\n",
        "         [1, 0, 0, 0],\n",
        "         [1, 0, 0, 0],\n",
        "         [1, -1, -1, -1]]\n",
        "\n",
        "visualize(board1)\n",
        "move = smart_player(board1, PLAYER_1)\n",
        "print(move)"
      ]
    },
    {
      "cell_type": "code",
      "execution_count": null,
      "metadata": {
        "colab": {
          "base_uri": "https://localhost:8080/",
          "height": 447
        },
        "id": "yFB0j7k6IGnK",
        "outputId": "08f02eee-5607-4cc0-c39a-aa27b2dde993"
      },
      "outputs": [
        {
          "output_type": "display_data",
          "data": {
            "text/plain": [
              "<Figure size 640x480 with 1 Axes>"
            ],
            "image/png": "[encoded data removed]"
          },
          "metadata": {}
        },
        {
          "output_type": "stream",
          "name": "stdout",
          "text": [
            "(1, 0)\n"
          ]
        }
      ],
      "source": [
        "board2 = [[0, 0, 0, 1],\n",
        "         [0, 0, 1, -1],\n",
        "         [0, 1, -1, -1],\n",
        "         [0, -1, -1, 1]]\n",
        "\n",
        "visualize(board2)\n",
        "move = smart_player(board2, PLAYER_1)\n",
        "print(move)"
      ]
    },
    {
      "cell_type": "code",
      "execution_count": null,
      "metadata": {
        "colab": {
          "base_uri": "https://localhost:8080/",
          "height": 447
        },
        "id": "wj_k4f1sJ7hg",
        "outputId": "bfab6aa0-89f0-44d2-e637-95aea93076a4"
      },
      "outputs": [
        {
          "output_type": "display_data",
          "data": {
            "text/plain": [
              "<Figure size 640x480 with 1 Axes>"
            ],
            "image/png": "[encoded data removed]"
          },
          "metadata": {}
        },
        {
          "output_type": "stream",
          "name": "stdout",
          "text": [
            "(1, 0)\n"
          ]
        }
      ],
      "source": [
        "board3 = [[0, 0, 0, 0],\n",
        "         [0, 0, 0, 0],\n",
        "         [0, -1, -1, -1],\n",
        "         [0, 1, 1, 1]]\n",
        "\n",
        "visualize(board3)\n",
        "move = smart_player(board3, PLAYER_1)\n",
        "print(move)"
      ]
    },
    {
      "cell_type": "code",
      "execution_count": null,
      "metadata": {
        "colab": {
          "base_uri": "https://localhost:8080/",
          "height": 447
        },
        "id": "_4ZFnE0FLgQg",
        "outputId": "df59599b-0dae-4adf-a3a0-0d02d8ce44d3"
      },
      "outputs": [
        {
          "output_type": "display_data",
          "data": {
            "text/plain": [
              "<Figure size 640x480 with 1 Axes>"
            ],
            "image/png": "[encoded data removed]"
          },
          "metadata": {}
        },
        {
          "output_type": "stream",
          "name": "stdout",
          "text": [
            "(1, 0)\n"
          ]
        }
      ],
      "source": [
        "board4 = [[0, 0, 0, 0],\n",
        "         [1, -1, -1, 0],\n",
        "         [1, -1, -1, 0],\n",
        "         [1, 1, 1, 0]]\n",
        "\n",
        "visualize(board4)\n",
        "move = smart_player(board4, PLAYER_1)\n",
        "print(move)"
      ]
    },
    {
      "cell_type": "code",
      "execution_count": null,
      "metadata": {
        "colab": {
          "base_uri": "https://localhost:8080/",
          "height": 447
        },
        "id": "ECcMh7WTL8cm",
        "outputId": "71487192-6717-4338-f81f-0407f163d667"
      },
      "outputs": [
        {
          "output_type": "display_data",
          "data": {
            "text/plain": [
              "<Figure size 640x480 with 1 Axes>"
            ],
            "image/png": "[encoded data removed]"
          },
          "metadata": {}
        },
        {
          "output_type": "stream",
          "name": "stdout",
          "text": [
            "(1, 1)\n"
          ]
        }
      ],
      "source": [
        "board5 = [[1, 0, 0, 0],\n",
        "         [1, 0, 0, 0],\n",
        "         [-1, -1, 1, 0],\n",
        "         [1, -1, -1, 1]]\n",
        "\n",
        "visualize(board5)\n",
        "move = smart_player(board5, PLAYER_1)\n",
        "print(move)"
      ]
    },
    {
      "cell_type": "markdown",
      "metadata": {
        "id": "8ByI_b2VL8cm"
      },
      "source": [
        "How long does it take to make a move? Start with a smaller board with 4 columns and make the board larger by adding columns."
      ]
    },
    {
      "cell_type": "markdown",
      "metadata": {
        "id": "KTlgMHnI016r"
      },
      "source": [
        "TIMES FOR THE BOARDS\n",
        "\n",
        "adding 1 column to the 4x4\n",
        "- Number of nodes searched: 13482\n",
        "CPU times: user 195 ms, sys: 435 µs, total: 195 ms\n",
        "Wall time: 198 ms\n",
        "(1, 0)\n",
        "\n",
        "adding 2 column to the 4x4\n",
        "- Number of nodes searched: 46843\n",
        "CPU times: user 807 ms, sys: 0 ns, total: 807 ms\n",
        "Wall time: 809 ms\n",
        "(1, 0)\n",
        "\n",
        "adding 3 column to the 4x4\n",
        "- Number of nodes searched: 46843\n",
        "CPU times: user 818 ms, sys: 1.64 ms, total: 820 ms\n",
        "Wall time: 826 ms\n",
        "(1, 0)\n",
        "\n",
        "\n"
      ]
    },
    {
      "cell_type": "markdown",
      "metadata": {
        "id": "XDHTe0LcL8cn"
      },
      "source": [
        "### Move ordering\n",
        "\n",
        "Starting the search with better moves will increase the efficiency of alpha-beta pruning. Describe and implement a simple move ordering strategy. Make a table that shows how the ordering strategies influence the time it takes to make a move."
      ]
    },
    {
      "cell_type": "markdown",
      "metadata": {
        "id": "Df3HE3p759sv"
      },
      "source": [
        "The implementation of a better move ordering is going for moves towards the center. These moves have a higher chance of more connection so in the move ordering we will order the list of actions in accordance of closest to the center, HERE is an Implementation"
      ]
    },
    {
      "cell_type": "code",
      "execution_count": null,
      "metadata": {
        "id": "omeYo7HyL8cn"
      },
      "outputs": [],
      "source": [
        "# MOVE ORDERING ACTIONS\n",
        "def heuristic(action, columns):\n",
        "    # Simple heuristic: prefer actions closer to the center of the board\n",
        "    return abs(action[1] - columns // 2)\n",
        "\n",
        "def order_actions(board, player):\n",
        "    global prev_mean\n",
        "    possible_actions = []\n",
        "    columns = len(board[0])\n",
        "    for i in range(columns):\n",
        "        if board[0][i] == 0:  # if the top of a column is empty, you can play there\n",
        "            possible_actions.append((player, i))\n",
        "        if not prev_mean and board[-1][i] == (player * -1):  # Check for \"mean\" move if applicable\n",
        "            possible_actions.append((player * -1, i))\n",
        "\n",
        "    # Sort actions based on heuristic\n",
        "    ordered_actions = sorted(possible_actions, key=lambda action: heuristic(action, columns))\n",
        "    return ordered_actions\n",
        "\n",
        "def alpha_beta_search_order(board, player = PLAYER_1):\n",
        "    global DEBUG, COUNT, prev_mean\n",
        "    COUNT = 0\n",
        "    original_prev_mean = prev_mean\n",
        "\n",
        "    value, move = max_value_ab_order(board, player, -math.inf, +math.inf)\n",
        "\n",
        "    if DEBUG >= 1: print(f\"Number of nodes searched: {COUNT}\")\n",
        "\n",
        "    prev_mean = original_prev_mean\n",
        "    return { \"move\": move, \"value\": value }\n",
        "\n",
        "def max_value_ab_order(board, player, alpha, beta):\n",
        "    global DEBUG, COUNT, prev_mean\n",
        "    COUNT += 1\n",
        "    original_prev_mean = prev_mean\n",
        "\n",
        "    # return utility of state is a terminal state\n",
        "    v = utility(board)\n",
        "    if DEBUG >= 2: print(f\"max: {board} [alpha,beta]=[{alpha},{beta}] v={v}\")\n",
        "    if v is not None:\n",
        "        if DEBUG >= 2: print(f\"     found terminal state. backtracking.\")\n",
        "        return v, None\n",
        "\n",
        "    v, move = -math.inf, None\n",
        "\n",
        "    # check all possible actions in the state, update alpha and return move with the largest value\n",
        "    for a in order_actions(board, player):\n",
        "        if a[0] == player * -1:\n",
        "            prev_mean = True\n",
        "        else:\n",
        "            prev_mean = False\n",
        "\n",
        "        new_board = result(board, player, a)\n",
        "        v2, a2 = min_value_ab_order(new_board, (player * -1), alpha, beta)\n",
        "        if DEBUG >= 2: print(f\"max: {board} (backtracked) [alpha,beta]=[{alpha},{beta}] v={v2}\")\n",
        "\n",
        "        if v2 > v:\n",
        "            v, move = v2, a\n",
        "            alpha = max(alpha, v)\n",
        "        if v >= beta:\n",
        "            if DEBUG >= 2: print(f\"     v>=beta ({v}>={beta}): pruning remaining subtree (actions). backtracking.\")\n",
        "            prev_mean = original_prev_mean\n",
        "            return v, move\n",
        "\n",
        "    prev_mean = original_prev_mean\n",
        "    return v, move\n",
        "\n",
        "def min_value_ab_order(board, player, alpha, beta):\n",
        "    \"\"\"opponent's best response.\"\"\"\n",
        "    global DEBUG, COUNT, prev_mean\n",
        "    COUNT += 1\n",
        "    original_prev_mean = prev_mean\n",
        "\n",
        "    # return utility of state is a terminal state\n",
        "    v = utility(board)\n",
        "    if DEBUG >= 2: print(f\"min: {board} [alpha,beta]=[{alpha},{beta}] v={v}\")\n",
        "    if v is not None:\n",
        "        if DEBUG >= 2: print(f\"     found terminal state. backtacking.\")\n",
        "        return v, None\n",
        "\n",
        "    v, move = +math.inf, None\n",
        "\n",
        "    # check all possible actions in the state, update beta and return move with the smallest value\n",
        "    for a in order_actions(board, player):\n",
        "        if a[0] == player * -1:\n",
        "            prev_mean = True\n",
        "        else:\n",
        "            prev_mean = False\n",
        "\n",
        "        new_board = result(board, player, a)\n",
        "        v2, a2 = max_value_ab_order(new_board, (player * -1), alpha, beta)\n",
        "        if DEBUG >= 2: print(f\"min: {board} (backtracked) [alpha,beta]=[{alpha},{beta}] v={v2}\")\n",
        "\n",
        "        if v2 < v:\n",
        "            v, move = v2, a\n",
        "            beta = min(beta, v)\n",
        "        if v <= alpha:\n",
        "            if DEBUG >= 2: print(f\"     v<=alpha ({v}<={alpha}): pruning remaining subtree (actions). backtracking.\")\n",
        "            prev_mean = original_prev_mean\n",
        "            return v, move\n",
        "\n",
        "    prev_mean = original_prev_mean\n",
        "    return v, move\n",
        "\n",
        "\n",
        "def smart_player_order(board, player = None):\n",
        "    result = alpha_beta_search_order(board, player)\n",
        "    return result['move']\n"
      ]
    },
    {
      "cell_type": "code",
      "execution_count": null,
      "metadata": {
        "id": "wOwupfLS7IQj"
      },
      "outputs": [],
      "source": [
        "import time\n",
        "board1 = [[0, 0, 0, 0],\n",
        "         [1, 0, 0, 0],\n",
        "         [1, 0, 0, 0],\n",
        "         [1, -1, -1, -1]]\n",
        "\n",
        "board2 = [[0, 0, 0, 1],\n",
        "         [0, 0, 1, -1],\n",
        "         [0, 1, -1, -1],\n",
        "         [0, -1, -1, 1]]\n",
        "\n",
        "board3 = [[0, 0, 0, 0],\n",
        "         [0, 0, 0, 0],\n",
        "         [0, -1, -1, -1],\n",
        "         [0, 1, 1, 1]]\n",
        "\n",
        "def measure_execution_time(func, board, player):\n",
        "    start_time = time.perf_counter()\n",
        "    move = func(board, player)\n",
        "    end_time = time.perf_counter()\n",
        "    execution_time = end_time - start_time\n",
        "    return execution_time, move\n",
        "\n",
        "boards = [board1, board2, board3]\n",
        "times_smart_player = []\n",
        "times_smart_player_order = []\n",
        "\n",
        "for i, board in enumerate(boards, start=1):\n",
        "    exec_time, move = measure_execution_time(smart_player, board, PLAYER_1)\n",
        "    exec_time_order, move_order = measure_execution_time(smart_player_order, board, PLAYER_1)\n",
        "\n",
        "    times_smart_player.append(exec_time)\n",
        "    times_smart_player_order.append(exec_time_order)\n"
      ]
    },
    {
      "cell_type": "code",
      "execution_count": null,
      "metadata": {
        "colab": {
          "base_uri": "https://localhost:8080/"
        },
        "id": "H36HV440-mPK",
        "outputId": "16305e42-fbe8-47fd-fba2-294b51c86cd5"
      },
      "outputs": [
        {
          "output_type": "stream",
          "name": "stdout",
          "text": [
            "     Board  Smart Player Time (s)  Smart Player with Order Time (s)\n",
            "0  Board 1               0.132398                          1.501225\n",
            "1  Board 2               0.024646                          0.077475\n",
            "2  Board 3               0.007056                         13.860926\n"
          ]
        }
      ],
      "source": [
        "board_cases = [\"Board 1\", \"Board 2\", \"Board 3\"]\n",
        "\n",
        "# Create and display the table\n",
        "import pandas as pd\n",
        "\n",
        "# Creating a DataFrame\n",
        "df = pd.DataFrame({\n",
        "    \"Board\": board_cases,\n",
        "    \"Smart Player Time (s)\": times_smart_player,\n",
        "    \"Smart Player with Order Time (s)\": times_smart_player_order,\n",
        "})\n",
        "\n",
        "# Display the DataFrame\n",
        "print(df)"
      ]
    },
    {
      "cell_type": "markdown",
      "metadata": {
        "id": "n_ZJDd9nL8cn"
      },
      "source": [
        "### The first few moves\n",
        "\n",
        "Start with an empty board. This is the worst case scenario for minimax search with alpha-beta pruning since it needs solve all possible games that can be played (minus some pruning) before making the decision. What can you do?"
      ]
    },
    {
      "cell_type": "markdown",
      "metadata": {
        "id": "7OdI0b9PAfje"
      },
      "source": [
        "For the first 3 moves we can set the algorithm to follow a specific connect 4 strategy to set up the rest of the game using conditionals. therefore it does not simulate the entire game in the beginning and just follow a specific strategy to set up a win."
      ]
    },
    {
      "cell_type": "markdown",
      "metadata": {
        "id": "Uhk1YRnDL8cn"
      },
      "source": [
        "### Playtime\n",
        "\n",
        "Let the Minimax Search agent play a random agent on a small board. Analyze wins, losses and draws."
      ]
    },
    {
      "cell_type": "code",
      "execution_count": null,
      "metadata": {
        "id": "Kx1qffv2L8co"
      },
      "outputs": [],
      "source": [
        "def is_board_empty(board):\n",
        "    for row in board:\n",
        "        for cell in row:\n",
        "            if cell != 0:\n",
        "                return False  # Found a non-empty cell\n",
        "    return True  # All cells are empty\n",
        "\n",
        "# red is 1, PLAYER_1\n",
        "# yellow is -1, PLAYER_2\n",
        "def play_smart(p1, p2, N = 1000):\n",
        "    global prev_mean\n",
        "    score_board = {p1: 0, p2: 0, 0: 0} # count\n",
        "\n",
        "    for i in range(N):  # 1000 time game\n",
        "        game = empty_board((4,4))   # each game empty board\n",
        "        prev_mean = False       # no prev mean\n",
        "        player = PLAYER_1   #start with player 1 aka red\n",
        "\n",
        "        while not terminal(game):\n",
        "            if (player == PLAYER_1):\n",
        "                if (is_board_empty(game)):\n",
        "                    columns = len(board[0])\n",
        "                    action = (player, columns // 2)\n",
        "                else:\n",
        "                    action = smart_player(game, player)  # player 1 is smart\n",
        "            else:\n",
        "                action = random_player(game, player)  # player 2 is random\n",
        "            if action[0] == player * -1:\n",
        "                prev_mean = True    # if it was a mean move then set to true\n",
        "            else:\n",
        "                prev_mean = False\n",
        "\n",
        "            temp_board = result(game, player, action)\n",
        "            game = temp_board\n",
        "\n",
        "            player = player * -1 # switch player\n",
        "\n",
        "        score = utility(game) # see if red, yellow or draw\n",
        "        score_board[score] += 1\n",
        "\n",
        "    return score_board"
      ]
    },
    {
      "cell_type": "code",
      "execution_count": null,
      "metadata": {
        "colab": {
          "base_uri": "https://localhost:8080/"
        },
        "id": "rZrHriFxDp9A",
        "outputId": "ea7a1752-43b5-4c5e-a850-1f2428b4a2bd"
      },
      "outputs": [
        {
          "output_type": "stream",
          "name": "stdout",
          "text": [
            "{1: 597, -1: 202, 0: 201}\n"
          ]
        }
      ],
      "source": [
        "results = play_smart(PLAYER_1, PLAYER_2)\n",
        "print(results)"
      ]
    },
    {
      "cell_type": "markdown",
      "metadata": {
        "id": "YtOLvoOtpnj5"
      },
      "source": [
        "The smart agent wins over the random agent, however there are still some draws in the match"
      ]
    },
    {
      "cell_type": "markdown",
      "metadata": {
        "id": "LXE2i58iL8co"
      },
      "source": [
        "## Task 4: Heuristic Alpha-Beta Tree Search [3 points]\n",
        "\n",
        "### Heuristic evaluation function\n",
        "\n",
        "Define and implement a heuristic evaluation function."
      ]
    },
    {
      "cell_type": "code",
      "execution_count": null,
      "metadata": {
        "id": "qoCQIXw_L8co"
      },
      "outputs": [],
      "source": [
        "# Your code/ answer goes here.\n",
        "def evaluate_direction_horizontal(board, player):\n",
        "  score = 0\n",
        "  rowLen = len(board)\n",
        "  colLen = len(board[0])\n",
        "\n",
        "  # Check horizontal direction\n",
        "  for row in range(rowLen):\n",
        "    for col in range(colLen - 3):\n",
        "\n",
        "      # Check consecutive discs in a horizontal line\n",
        "      consecutive_count = 0\n",
        "\n",
        "      # Check how many empty_spaces there are to place within a length 4 horizontal line\n",
        "      empty_count = 0\n",
        "\n",
        "      # Check to see how many disc is blocking the player from winning\n",
        "      blocking_disc = 0\n",
        "\n",
        "      for i in range(4):\n",
        "          # Check if the space to the right has the player's disc\n",
        "          if board[row][col + i] == player:\n",
        "              consecutive_count += 1\n",
        "\n",
        "          # Check if the space to the right is empty\n",
        "          elif board[row][col + i] == 0:\n",
        "              empty_count += 1\n",
        "\n",
        "          # Check if the space to the right has the opponent's disc\n",
        "          elif board[row][col + i] != player:\n",
        "              blocking_disc += 1\n",
        "\n",
        "      if consecutive_count == 4:\n",
        "        score = 10000\n",
        "        break\n",
        "      else:\n",
        "        score += consecutive_count * 1000 + empty_count * 500 + blocking_disc * -1000\n",
        "\n",
        "  return score\n",
        "\n",
        "def evaluate_direction_vertical(board, player):\n",
        "  score = 0\n",
        "  rowLen = len(board)\n",
        "  colLen = len(board[0])\n",
        "\n",
        "  # Check vertical direction\n",
        "  for col in range(colLen):\n",
        "    for row in range(rowLen - 3):\n",
        "        # Check consecutive discs in a horizontal line\n",
        "        consecutive_count = 0\n",
        "\n",
        "        # Check how many empty_spaces there are to place within a length 4 horizontal line\n",
        "        empty_count = 0\n",
        "\n",
        "        # Check to see how many disc is blocking the player from winning\n",
        "        blocking_disc = 0\n",
        "\n",
        "        for i in range(4):\n",
        "          # Check if the space on top has the player's disc\n",
        "          if board[row + i][col] == player:\n",
        "              consecutive_count += 1\n",
        "          # Check if the space on top is empty\n",
        "          elif board[row + i][col] == 0:\n",
        "              empty_count += 1\n",
        "          # Check if the space on top has the opponent's disc\n",
        "          elif board[row + i][col] != player:\n",
        "              blocking_disc += 1\n",
        "\n",
        "        if consecutive_count == 4:\n",
        "          score = 10000\n",
        "          break\n",
        "        else:\n",
        "          score += consecutive_count * 1000 + empty_count * 500 + blocking_disc * -1000\n",
        "\n",
        "  return score\n",
        "\n",
        "# Check ascending diagonal\n",
        "def evaluate_direction_ascending_diagonal(board, player):\n",
        "  score = 0\n",
        "  rowLen = len(board)\n",
        "  colLen = len(board[0])\n",
        "\n",
        "  for row in range(rowLen - 3):\n",
        "    for col in range(colLen - 3):\n",
        "        # Check consecutive discs in a horizontal line\n",
        "        consecutive_count = 0\n",
        "\n",
        "        # Check how many empty_spaces there are to place within a length 4 horizontal line\n",
        "        empty_count = 0\n",
        "\n",
        "        # Check to see how many disc is blocking the player from winning\n",
        "        blocking_disc = 0\n",
        "\n",
        "        for i in range(4):\n",
        "          # Check if the the upper right space has the player's disc\n",
        "          if board[row + i][col + i] == player:\n",
        "            consecutive_count += 1\n",
        "          # Check if the the upper right space is empty\n",
        "          elif board[row + i][col + i] == 0:\n",
        "            empty_count += 1\n",
        "          # Check if the the upper right space has the opponent's disc\n",
        "          elif board[row + i][col + i] != player:\n",
        "            blocking_disc += 1\n",
        "\n",
        "    if consecutive_count == 4:\n",
        "      score = 10000\n",
        "      break\n",
        "    else:\n",
        "      score += consecutive_count * 1000 + empty_count * 500 + blocking_disc * -1000\n",
        "\n",
        "  return score\n",
        "\n",
        "def evaluate_direction_descending_diagonal(board, player):\n",
        "  # Check descending diagonal\n",
        "  score = 0\n",
        "  rowLen = len(board)\n",
        "  colLen = len(board[0])\n",
        "\n",
        "  for row in range(3, rowLen):\n",
        "    for col in range(colLen - 3):\n",
        "      # Check consecutive discs in a horizontal line\n",
        "      consecutive_count = 0\n",
        "\n",
        "      # Check how many empty_spaces there are to place within a length 4 horizontal line\n",
        "      empty_count = 0\n",
        "\n",
        "      # Check to see how many disc is blocking the player from winning\n",
        "      blocking_disc = 0\n",
        "\n",
        "      for i in range(4):\n",
        "        if board[row - i][col + i] == player:\n",
        "          consecutive_count += 1\n",
        "        elif board[row - i][col + i] == 0:\n",
        "          empty_count += 1\n",
        "        elif board[row - i][col + i] != player:\n",
        "          blocking_disc += 1\n",
        "\n",
        "      if consecutive_count == 4:\n",
        "        score = 10000\n",
        "        break\n",
        "      else:\n",
        "        score += consecutive_count * 1000 + empty_count * 500 + blocking_disc * -100\n",
        "\n",
        "  return score\n",
        "\n",
        "# Make it so that the score is within the boundaries of -1 and 1\n",
        "def normalize_score(score):\n",
        "    return max(-1, min(1, score / 10000))\n",
        "\n",
        "def heuristic_evaluation(board, player):\n",
        "    score = 0\n",
        "    first_score = evaluate_direction_vertical(board, player)\n",
        "    if (first_score == 10000):\n",
        "      return normalize_score(first_score)\n",
        "\n",
        "    second_score = evaluate_direction_horizontal(board, player)\n",
        "    if (second_score == 10000):\n",
        "      return normalize_score(second_score)\n",
        "\n",
        "    third_score = evaluate_direction_ascending_diagonal(board, player)\n",
        "    if (third_score == 10000):\n",
        "      return normalize_score(third_score)\n",
        "\n",
        "    fourth_score = evaluate_direction_descending_diagonal(board, player)\n",
        "    if (fourth_score == 10000):\n",
        "      return normalize_score(fourth_score)\n",
        "\n",
        "    return normalize_score(first_score + second_score + third_score + fourth_score)\n",
        "\n"
      ]
    },
    {
      "cell_type": "markdown",
      "metadata": {
        "id": "QbIviqR6L8co"
      },
      "source": [
        "### Cutting off search\n",
        "\n",
        "Modify your Minimax Search with Alpha-Beta Pruning to cut off search at a specified depth and use the heuristic evaluation function. Experiment with different cutoff values."
      ]
    },
    {
      "cell_type": "code",
      "execution_count": null,
      "metadata": {
        "id": "IhKCwDTPL8co"
      },
      "outputs": [],
      "source": [
        "# Your code/ answer goes here.\n",
        "import math\n",
        "# global variables\n",
        "DEBUG = 1 # 1 ... count nodes, 2 ... debug each node\n",
        "COUNT = 0\n",
        "\n",
        "def cutting_off_search(board, limited_depth, player = PLAYER_1):\n",
        "    global DEBUG, COUNT, prev_mean\n",
        "    COUNT = 0\n",
        "    original_prev_mean = prev_mean\n",
        "\n",
        "    value, move = max_value_ab_h(board, player, -math.inf, +math.inf, 0, limited_depth)\n",
        "\n",
        "    if DEBUG >= 1: print(f\"Number of nodes searched: {COUNT}\")\n",
        "\n",
        "    prev_mean = original_prev_mean\n",
        "    return { \"move\": move, \"value\": value }\n",
        "\n",
        "def max_value_ab_h(board, player, alpha, beta, depth, limited_depth):\n",
        "    global DEBUG, COUNT, prev_mean\n",
        "    COUNT += 1\n",
        "    original_prev_mean = prev_mean\n",
        "\n",
        "    # return utility of state is a terminal state\n",
        "    v = terminal(board)\n",
        "    if DEBUG >= 2: print(f\"max: {board} [alpha,beta]=[{alpha},{beta}] v={v}\")\n",
        "    if v is not None and depth >= limited_depth:\n",
        "        if DEBUG >= 2: print(f\"     found terminal state. backtracking.\")\n",
        "        return heuristic_evaluation(board, player), None\n",
        "\n",
        "    v, move = -math.inf, None\n",
        "\n",
        "    # check all possible actions in the state, update alpha and return move with the largest value\n",
        "    for a in actions(board, player):\n",
        "        if a[0] == player * -1:\n",
        "            prev_mean = True\n",
        "        else:\n",
        "            prev_mean = False\n",
        "\n",
        "        new_board = result(board, player, a)\n",
        "        v2, a2 = min_value_ab_h(new_board, (player * -1), alpha, beta, depth + 1, limited_depth)\n",
        "        if DEBUG >= 2: print(f\"max: {board} (backtracked) [alpha,beta]=[{alpha},{beta}] v={v2}\")\n",
        "\n",
        "        if v2 > v:\n",
        "            v, move = v2, a\n",
        "            alpha = max(alpha, v)\n",
        "        if v >= beta:\n",
        "            if DEBUG >= 2: print(f\"     v>=beta ({v}>={beta}): pruning remaining subtree (actions). backtracking.\")\n",
        "            prev_mean = original_prev_mean\n",
        "            return v, move\n",
        "\n",
        "    prev_mean = original_prev_mean\n",
        "    return v, move\n",
        "\n",
        "def min_value_ab_h(board, player, alpha, beta, depth, limited_depth):\n",
        "    \"\"\"opponent's best response.\"\"\"\n",
        "    global DEBUG, COUNT, prev_mean\n",
        "    COUNT += 1\n",
        "    original_prev_mean = prev_mean\n",
        "\n",
        "    # return utility of state is a terminal state\n",
        "    v = terminal(board)\n",
        "    if DEBUG >= 2: print(f\"min: {board} [alpha,beta]=[{alpha},{beta}] v={v}\")\n",
        "    if v is not None and depth >= limited_depth:\n",
        "        if DEBUG >= 2: print(f\"     found terminal state. backtacking.\")\n",
        "        return heuristic_evaluation(board, player), None\n",
        "\n",
        "    v, move = +math.inf, None\n",
        "\n",
        "    # check all possible actions in the state, update beta and return move with the smallest value\n",
        "    for a in actions(board, player):\n",
        "        if a[0] == player * -1:\n",
        "            prev_mean = True\n",
        "        else:\n",
        "            prev_mean = False\n",
        "\n",
        "        new_board = result(board, player, a)\n",
        "        v2, a2 = max_value_ab_h(new_board, (player * -1), alpha, beta, depth + 1, limited_depth)\n",
        "        if DEBUG >= 2: print(f\"min: {board} (backtracked) [alpha,beta]=[{alpha},{beta}] v={v2}\")\n",
        "\n",
        "        if v2 < v:\n",
        "            v, move = v2, a\n",
        "            beta = min(beta, v)\n",
        "        if v <= alpha:\n",
        "            if DEBUG >= 2: print(f\"     v<=alpha ({v}<={alpha}): pruning remaining subtree (actions). backtracking.\")\n",
        "            prev_mean = original_prev_mean\n",
        "            return v, move\n",
        "\n",
        "    prev_mean = original_prev_mean\n",
        "    return v, move\n",
        "\n",
        "\n",
        "def smart_player_h(board, depth, player = None):\n",
        "    result = cutting_off_search(board, depth, player)\n",
        "    return result['move']"
      ]
    },
    {
      "cell_type": "markdown",
      "metadata": {
        "id": "NBpYGvxBL8co"
      },
      "source": [
        "Experiment with the same manually created boards as above to check if the agent spots winning opportunities."
      ]
    },
    {
      "cell_type": "code",
      "execution_count": null,
      "metadata": {
        "colab": {
          "base_uri": "https://localhost:8080/",
          "height": 465
        },
        "id": "KHqb_K5YL8co",
        "outputId": "2ada4bb7-be42-4533-c1b9-baf86fb58f71"
      },
      "outputs": [
        {
          "output_type": "display_data",
          "data": {
            "text/plain": [
              "<Figure size 640x480 with 1 Axes>"
            ],
            "image/png": "[encoded data removed]"
          },
          "metadata": {}
        },
        {
          "output_type": "stream",
          "name": "stdout",
          "text": [
            "Number of nodes searched: 114\n"
          ]
        },
        {
          "output_type": "execute_result",
          "data": {
            "text/plain": [
              "(1, 0)"
            ]
          },
          "metadata": {},
          "execution_count": 252
        }
      ],
      "source": [
        "# Your code/ answer goes here.\n",
        "board1 = [[0, 0, 0, 0],\n",
        "         [1, 0, 0, 0],\n",
        "         [1, 0, 0, 0],\n",
        "         [1, -1, -1, -1]]\n",
        "\n",
        "visualize(board1)\n",
        "smart_player_h(board1, 4, PLAYER_1)"
      ]
    },
    {
      "cell_type": "code",
      "execution_count": null,
      "metadata": {
        "colab": {
          "base_uri": "https://localhost:8080/",
          "height": 465
        },
        "id": "iun0H2y2a322",
        "outputId": "98c9d2b1-7458-4024-f645-f69f5847ab43"
      },
      "outputs": [
        {
          "output_type": "display_data",
          "data": {
            "text/plain": [
              "<Figure size 640x480 with 1 Axes>"
            ],
            "image/png": "[encoded data removed]"
          },
          "metadata": {}
        },
        {
          "output_type": "stream",
          "name": "stdout",
          "text": [
            "Number of nodes searched: 100\n"
          ]
        },
        {
          "output_type": "execute_result",
          "data": {
            "text/plain": [
              "(1, 0)"
            ]
          },
          "metadata": {},
          "execution_count": 254
        }
      ],
      "source": [
        "board2 = [[0, 0, 0, 1],\n",
        "         [0, 0, 1, -1],\n",
        "         [0, 1, -1, -1],\n",
        "         [0, -1, -1, 1]]\n",
        "\n",
        "visualize(board2)\n",
        "smart_player_h(board2, 4, PLAYER_1)"
      ]
    },
    {
      "cell_type": "code",
      "execution_count": null,
      "metadata": {
        "colab": {
          "base_uri": "https://localhost:8080/",
          "height": 465
        },
        "id": "rxWg0pqVb1UW",
        "outputId": "3e813bf9-2534-4b45-9236-02c6c8d2cfba"
      },
      "outputs": [
        {
          "output_type": "display_data",
          "data": {
            "text/plain": [
              "<Figure size 640x480 with 1 Axes>"
            ],
            "image/png": "[encoded data removed]"
          },
          "metadata": {}
        },
        {
          "output_type": "stream",
          "name": "stdout",
          "text": [
            "Number of nodes searched: 162\n"
          ]
        },
        {
          "output_type": "execute_result",
          "data": {
            "text/plain": [
              "(1, 0)"
            ]
          },
          "metadata": {},
          "execution_count": 255
        }
      ],
      "source": [
        "board3 = [[0, 0, 0, 0],\n",
        "         [0, 0, 0, 0],\n",
        "         [0, -1, -1, -1],\n",
        "         [0, 1, 1, 1]]\n",
        "\n",
        "\n",
        "visualize(board3)\n",
        "smart_player_h(board3, 4, PLAYER_1)\n"
      ]
    },
    {
      "cell_type": "code",
      "execution_count": null,
      "metadata": {
        "colab": {
          "base_uri": "https://localhost:8080/",
          "height": 465
        },
        "id": "pIhE8jPBcxou",
        "outputId": "0b8f6222-3236-4b1b-ef1b-526b2b1ed0e8"
      },
      "outputs": [
        {
          "output_type": "display_data",
          "data": {
            "text/plain": [
              "<Figure size 640x480 with 1 Axes>"
            ],
            "image/png": "[encoded data removed]"
          },
          "metadata": {}
        },
        {
          "output_type": "stream",
          "name": "stdout",
          "text": [
            "Number of nodes searched: 64\n"
          ]
        },
        {
          "output_type": "execute_result",
          "data": {
            "text/plain": [
              "(1, 0)"
            ]
          },
          "metadata": {},
          "execution_count": 256
        }
      ],
      "source": [
        "board4 = [[0, 0, 0, 0],\n",
        "         [1, -1, -1, 0],\n",
        "         [1, -1, -1, 0],\n",
        "         [1, 1, 1, 0]]\n",
        "\n",
        "\n",
        "visualize(board4)\n",
        "smart_player_h(board4, 4, PLAYER_1)"
      ]
    },
    {
      "cell_type": "code",
      "execution_count": null,
      "metadata": {
        "colab": {
          "base_uri": "https://localhost:8080/",
          "height": 465
        },
        "id": "24rYFSnSc5lQ",
        "outputId": "f88e3d72-76ee-4bc9-d74f-9642b60e5bc2"
      },
      "outputs": [
        {
          "output_type": "display_data",
          "data": {
            "text/plain": [
              "<Figure size 640x480 with 1 Axes>"
            ],
            "image/png": "[encoded data removed]"
          },
          "metadata": {}
        },
        {
          "output_type": "stream",
          "name": "stdout",
          "text": [
            "Number of nodes searched: 76\n"
          ]
        },
        {
          "output_type": "execute_result",
          "data": {
            "text/plain": [
              "(1, 1)"
            ]
          },
          "metadata": {},
          "execution_count": 257
        }
      ],
      "source": [
        "board5 = [[1, 0, 0, 0],\n",
        "         [1, 0, 0, 0],\n",
        "         [-1, -1, 1, 0],\n",
        "         [1, -1, -1, 1]]\n",
        "\n",
        "\n",
        "visualize(board5)\n",
        "smart_player_h(board5, 4, PLAYER_1)\n"
      ]
    },
    {
      "cell_type": "markdown",
      "metadata": {
        "id": "ZaBC7W7VL8cp"
      },
      "source": [
        "How long does it take to make a move? Start with a smaller board with 4 columns and make the board larger by adding columns."
      ]
    },
    {
      "cell_type": "markdown",
      "source": [
        "# Board 1 4x4\n",
        "Number of nodes searched: 114\n",
        "CPU times: user 5.89 ms, sys: 0 ns, total: 5.89 ms\n",
        "Wall time: 5.97 ms\n",
        "\n",
        "# Board 1 4x5\n",
        "Number of nodes searched: 155\n",
        "CPU times: user 5.44 ms, sys: 0 ns, total: 5.44 ms\n",
        "Wall time: 5.3 ms\n",
        "\n",
        "# Board 1 4x6\n",
        "Number of nodes searched: 148\n",
        "CPU times: user 7.83 ms, sys: 0 ns, total: 7.83 ms\n",
        "Wall time: 8.16 ms\n",
        "\n",
        "# Board 1 4x7\n",
        "Number of nodes searched: 255\n",
        "CPU times: user 13.6 ms, sys: 0 ns, total: 13.6 ms\n",
        "Wall time: 13.8 ms\n"
      ],
      "metadata": {
        "id": "HgHd6eT_SJus"
      }
    },
    {
      "cell_type": "markdown",
      "metadata": {
        "id": "bokyrXrkL8cp"
      },
      "source": [
        "### Playtime\n",
        "\n",
        "Let two heuristic search agents (different cutoff depth, different heuristic evaluation function) compete against each other on a reasonably sized board. Since there is no randomness, you only need to let them play once."
      ]
    },
    {
      "cell_type": "code",
      "source": [
        "# Your code/ answer goes here.\n",
        "def evaluate_direction(board, player, vertical_direction, horizontal_direction):\n",
        "  score = 0\n",
        "  rowLen = len(board)\n",
        "  colLen = len(board[0])\n",
        "\n",
        "  # Check horizontal direction\n",
        "  if (vertical_direction == 0 and horizontal_direction == 1):\n",
        "    for row in range(rowLen):\n",
        "      for col in range(colLen - 3):\n",
        "        count = 0\n",
        "        for i in range(4):\n",
        "            # Check if the space to the right has the player's disc\n",
        "            if board[row][col + i] == player:\n",
        "                score += 10\n",
        "                count += 1\n",
        "            # Check if the space to the right is empty\n",
        "            elif board[row][col + i] == 0:\n",
        "                score += 5\n",
        "            # Check if the space to the right has the opponent's disc\n",
        "            elif board[row][col + i] != player:\n",
        "                score -= 10\n",
        "        if count == 4:\n",
        "          break\n",
        "\n",
        "  # Check vertical direction\n",
        "  elif (vertical_direction == 1 and horizontal_direction == 0):\n",
        "    for col in range(colLen):\n",
        "        for row in range(rowLen - 3):\n",
        "          count = 0\n",
        "          for i in range(4):\n",
        "            # Check if the space on top has the player's disc\n",
        "            if board[row + i][col] == player:\n",
        "                score += 10\n",
        "                count += 1\n",
        "            # Check if the space on top is empty\n",
        "            elif board[row + i][col] == 0:\n",
        "                score += 5\n",
        "            # Check if the space on top has the opponent's disc\n",
        "            elif board[row + i][col] != player:\n",
        "                score -= 10\n",
        "          if count == 4:\n",
        "            break\n",
        "\n",
        "  # Check ascending diagonal\n",
        "  elif (vertical_direction == 1 and horizontal_direction == 1):\n",
        "    for row in range(rowLen - 3):\n",
        "      for col in range(colLen - 3):\n",
        "        count = 0\n",
        "        for i in range(4):\n",
        "          # Check if the the upper right space has the player's disc\n",
        "          if board[row + i][col + i] == player:\n",
        "            score += 10\n",
        "            count += 1\n",
        "          # Check if the the upper right space is empty\n",
        "          elif board[row + i][col + i] == 0:\n",
        "            score += 5\n",
        "          # Check if the the upper right space has the opponent's disc\n",
        "          elif board[row + i][col + i] != player:\n",
        "            score -= 10\n",
        "        if count == 4:\n",
        "          break\n",
        "\n",
        "\n",
        "  # Check descending diagonal\n",
        "  elif (vertical_direction == -1 and horizontal_direction == 1):\n",
        "    for row in range(3, rowLen):\n",
        "      for col in range(colLen - 3):\n",
        "        count = 0\n",
        "        for i in range(4):\n",
        "          if board[row - i][col + i] == player:\n",
        "            score += 10\n",
        "            count += 1\n",
        "          elif board[row - i][col + i] == 0:\n",
        "            score += 5\n",
        "          elif board[row - i][col + i] != player:\n",
        "            score -= 10\n",
        "        if count == 4:\n",
        "          break\n",
        "\n",
        "  if (count == 4):\n",
        "    return 10000\n",
        "\n",
        "  return score\n",
        "\n",
        "def heuristic_evaluation(board, player):\n",
        "    score = 0\n",
        "    first_score = evaluate_direction(board, player, 0, 1)\n",
        "    if (first_score == 10000):\n",
        "      return first_score\n",
        "\n",
        "    second_score = evaluate_direction(board, player, 1, 0)\n",
        "    if (second_score == 10000):\n",
        "      return second_score\n",
        "\n",
        "    third_score = evaluate_direction(board, player, 1, 1)\n",
        "    if (third_score == 10000):\n",
        "      return third_score\n",
        "\n",
        "\n",
        "    fourth_score = evaluate_direction(board, player, -1, 1)\n",
        "    if (fourth_score == 10000):\n",
        "      return fourth_score\n",
        "\n",
        "    return (first_score + second_score + third_score + fourth_score) / 100"
      ],
      "metadata": {
        "id": "9zbmIQJ7tnke"
      },
      "execution_count": null,
      "outputs": []
    },
    {
      "cell_type": "code",
      "source": [
        "# Your code/ answer goes here.\n",
        "import math\n",
        "# global variables\n",
        "DEBUG = 1 # 1 ... count nodes, 2 ... debug each node\n",
        "COUNT = 0\n",
        "\n",
        "def cutting_off_search(board, limited_depth, player = PLAYER_1):\n",
        "    global DEBUG, COUNT, prev_mean\n",
        "    COUNT = 0\n",
        "    original_prev_mean = prev_mean\n",
        "\n",
        "    value, move = max_value_ab_h(board, player, -math.inf, +math.inf, 0, limited_depth)\n",
        "\n",
        "    if DEBUG >= 1: print(f\"Number of nodes searched: {COUNT}\")\n",
        "\n",
        "    prev_mean = original_prev_mean\n",
        "    return { \"move\": move, \"value\": value }\n",
        "\n",
        "def max_value_ab_h_two(board, player, alpha, beta, depth, limited_depth):\n",
        "    global DEBUG, COUNT, prev_mean\n",
        "    COUNT += 1\n",
        "    original_prev_mean = prev_mean\n",
        "\n",
        "    # return utility of state is a terminal state\n",
        "    v = terminal(board)\n",
        "    if DEBUG >= 2: print(f\"max: {board} [alpha,beta]=[{alpha},{beta}] v={v}\")\n",
        "    if v is not None and depth >= limited_depth:\n",
        "        if DEBUG >= 2: print(f\"     found terminal state. backtracking.\")\n",
        "        return heuristic_evaluation_two(board, player), None\n",
        "\n",
        "    v, move = -math.inf, None\n",
        "\n",
        "    # check all possible actions in the state, update alpha and return move with the largest value\n",
        "    for a in actions(board, player):\n",
        "        if a[0] == player * -1:\n",
        "            prev_mean = True\n",
        "        else:\n",
        "            prev_mean = False\n",
        "\n",
        "        new_board = result(board, player, a)\n",
        "        v2, a2 = min_value_ab_h_two(new_board, (player * -1), alpha, beta, depth + 1, limited_depth)\n",
        "        if DEBUG >= 2: print(f\"max: {board} (backtracked) [alpha,beta]=[{alpha},{beta}] v={v2}\")\n",
        "\n",
        "        if v2 > v:\n",
        "            v, move = v2, a\n",
        "            alpha = max(alpha, v)\n",
        "        if v >= beta:\n",
        "            if DEBUG >= 2: print(f\"     v>=beta ({v}>={beta}): pruning remaining subtree (actions). backtracking.\")\n",
        "            prev_mean = original_prev_mean\n",
        "            return v, move\n",
        "\n",
        "    prev_mean = original_prev_mean\n",
        "    return v, move\n",
        "\n",
        "def min_value_ab_h_two(board, player, alpha, beta, depth, limited_depth):\n",
        "    \"\"\"opponent's best response.\"\"\"\n",
        "    global DEBUG, COUNT, prev_mean\n",
        "    COUNT += 1\n",
        "    original_prev_mean = prev_mean\n",
        "\n",
        "    # return utility of state is a terminal state\n",
        "    v = terminal(board)\n",
        "    if DEBUG >= 2: print(f\"min: {board} [alpha,beta]=[{alpha},{beta}] v={v}\")\n",
        "    if v is not None and depth >= limited_depth:\n",
        "        if DEBUG >= 2: print(f\"     found terminal state. backtacking.\")\n",
        "        return heuristic_evaluation_two(board, player), None\n",
        "\n",
        "    v, move = +math.inf, None\n",
        "\n",
        "    # check all possible actions in the state, update beta and return move with the smallest value\n",
        "    for a in actions(board, player):\n",
        "        if a[0] == player * -1:\n",
        "            prev_mean = True\n",
        "        else:\n",
        "            prev_mean = False\n",
        "\n",
        "        new_board = result(board, player, a)\n",
        "        v2, a2 = max_value_ab_h_two(new_board, (player * -1), alpha, beta, depth + 1, limited_depth)\n",
        "        if DEBUG >= 2: print(f\"min: {board} (backtracked) [alpha,beta]=[{alpha},{beta}] v={v2}\")\n",
        "\n",
        "        if v2 < v:\n",
        "            v, move = v2, a\n",
        "            beta = min(beta, v)\n",
        "        if v <= alpha:\n",
        "            if DEBUG >= 2: print(f\"     v<=alpha ({v}<={alpha}): pruning remaining subtree (actions). backtracking.\")\n",
        "            prev_mean = original_prev_mean\n",
        "            return v, move\n",
        "\n",
        "    prev_mean = original_prev_mean\n",
        "    return v, move\n",
        "\n",
        "\n",
        "def smart_player_h_second(board, depth, player = None):\n",
        "    result = cutting_off_search(board, depth, player)\n",
        "    return result['move']"
      ],
      "metadata": {
        "id": "6USaFjshx_Os"
      },
      "execution_count": null,
      "outputs": []
    },
    {
      "cell_type": "code",
      "execution_count": null,
      "metadata": {
        "colab": {
          "base_uri": "https://localhost:8080/",
          "height": 1000
        },
        "id": "hUILjLbdL8cp",
        "outputId": "04d77e36-b826-4d2e-fffe-84e8475d78a3"
      },
      "outputs": [
        {
          "output_type": "stream",
          "name": "stdout",
          "text": [
            "Number of nodes searched: 29382\n",
            "(1, 3)\n"
          ]
        },
        {
          "output_type": "display_data",
          "data": {
            "text/plain": [
              "<Figure size 640x480 with 1 Axes>"
            ],
            "image/png": "[encoded data removed]"
          },
          "metadata": {}
        },
        {
          "output_type": "stream",
          "name": "stdout",
          "text": [
            "Number of nodes searched: 1842\n",
            "(-1, 3)\n"
          ]
        },
        {
          "output_type": "display_data",
          "data": {
            "text/plain": [
              "<Figure size 640x480 with 1 Axes>"
            ],
            "image/png": "[encoded data removed]"
          },
          "metadata": {}
        },
        {
          "output_type": "stream",
          "name": "stdout",
          "text": [
            "Number of nodes searched: 30149\n",
            "(1, 2)\n"
          ]
        },
        {
          "output_type": "display_data",
          "data": {
            "text/plain": [
              "<Figure size 640x480 with 1 Axes>"
            ],
            "image/png": "[encoded data removed]"
          },
          "metadata": {}
        },
        {
          "output_type": "stream",
          "name": "stdout",
          "text": [
            "Number of nodes searched: 1697\n",
            "(-1, 3)\n"
          ]
        },
        {
          "output_type": "display_data",
          "data": {
            "text/plain": [
              "<Figure size 640x480 with 1 Axes>"
            ],
            "image/png": "[encoded data removed]"
          },
          "metadata": {}
        },
        {
          "output_type": "stream",
          "name": "stdout",
          "text": [
            "Number of nodes searched: 30043\n",
            "(1, 3)\n"
          ]
        },
        {
          "output_type": "display_data",
          "data": {
            "text/plain": [
              "<Figure size 640x480 with 1 Axes>"
            ],
            "image/png": "[encoded data removed]"
          },
          "metadata": {}
        },
        {
          "output_type": "stream",
          "name": "stdout",
          "text": [
            "Number of nodes searched: 1396\n",
            "(-1, 3)\n"
          ]
        },
        {
          "output_type": "display_data",
          "data": {
            "text/plain": [
              "<Figure size 640x480 with 1 Axes>"
            ],
            "image/png": "[encoded data removed]"
          },
          "metadata": {}
        },
        {
          "output_type": "stream",
          "name": "stdout",
          "text": [
            "Number of nodes searched: 22601\n",
            "(1, 1)\n"
          ]
        },
        {
          "output_type": "display_data",
          "data": {
            "text/plain": [
              "<Figure size 640x480 with 1 Axes>"
            ],
            "image/png": "[encoded data removed]"
          },
          "metadata": {}
        },
        {
          "output_type": "stream",
          "name": "stdout",
          "text": [
            "Number of nodes searched: 1390\n",
            "(-1, 2)\n"
          ]
        },
        {
          "output_type": "display_data",
          "data": {
            "text/plain": [
              "<Figure size 640x480 with 1 Axes>"
            ],
            "image/png": "[encoded data removed]"
          },
          "metadata": {}
        },
        {
          "output_type": "stream",
          "name": "stdout",
          "text": [
            "Number of nodes searched: 23728\n",
            "(1, 3)\n"
          ]
        },
        {
          "output_type": "display_data",
          "data": {
            "text/plain": [
              "<Figure size 640x480 with 1 Axes>"
            ],
            "image/png": "[encoded data removed]"
          },
          "metadata": {}
        },
        {
          "output_type": "stream",
          "name": "stdout",
          "text": [
            "Number of nodes searched: 809\n",
            "(-1, 2)\n"
          ]
        },
        {
          "output_type": "display_data",
          "data": {
            "text/plain": [
              "<Figure size 640x480 with 1 Axes>"
            ],
            "image/png": "[encoded data removed]"
          },
          "metadata": {}
        },
        {
          "output_type": "stream",
          "name": "stdout",
          "text": [
            "Number of nodes searched: 12669\n",
            "(1, 2)\n"
          ]
        },
        {
          "output_type": "display_data",
          "data": {
            "text/plain": [
              "<Figure size 640x480 with 1 Axes>"
            ],
            "image/png": "[encoded data removed]"
          },
          "metadata": {}
        },
        {
          "output_type": "stream",
          "name": "stdout",
          "text": [
            "Number of nodes searched: 662\n",
            "(-1, 2)\n"
          ]
        },
        {
          "output_type": "display_data",
          "data": {
            "text/plain": [
              "<Figure size 640x480 with 1 Axes>"
            ],
            "image/png": "[encoded data removed]"
          },
          "metadata": {}
        },
        {
          "output_type": "stream",
          "name": "stdout",
          "text": [
            "Number of nodes searched: 8015\n",
            "(1, 1)\n"
          ]
        },
        {
          "output_type": "display_data",
          "data": {
            "text/plain": [
              "<Figure size 640x480 with 1 Axes>"
            ],
            "image/png": "[encoded data removed]"
          },
          "metadata": {}
        },
        {
          "output_type": "stream",
          "name": "stdout",
          "text": [
            "Number of nodes searched: 567\n",
            "(-1, 1)\n"
          ]
        },
        {
          "output_type": "display_data",
          "data": {
            "text/plain": [
              "<Figure size 640x480 with 1 Axes>"
            ],
            "image/png": "[encoded data removed]"
          },
          "metadata": {}
        },
        {
          "output_type": "stream",
          "name": "stdout",
          "text": [
            "Number of nodes searched: 7469\n",
            "(1, 1)\n"
          ]
        },
        {
          "output_type": "display_data",
          "data": {
            "text/plain": [
              "<Figure size 640x480 with 1 Axes>"
            ],
            "image/png": "[encoded data removed]"
          },
          "metadata": {}
        },
        {
          "output_type": "stream",
          "name": "stdout",
          "text": [
            "Number of nodes searched: 871\n",
            "(-1, 1)\n"
          ]
        },
        {
          "output_type": "display_data",
          "data": {
            "text/plain": [
              "<Figure size 640x480 with 1 Axes>"
            ],
            "image/png": "[encoded data removed]"
          },
          "metadata": {}
        },
        {
          "output_type": "stream",
          "name": "stdout",
          "text": [
            "Number of nodes searched: 9832\n",
            "(1, 2)\n"
          ]
        },
        {
          "output_type": "display_data",
          "data": {
            "text/plain": [
              "<Figure size 640x480 with 1 Axes>"
            ],
            "image/png": "[encoded data removed]"
          },
          "metadata": {}
        },
        {
          "output_type": "stream",
          "name": "stdout",
          "text": [
            "Number of nodes searched: 452\n",
            "(-1, 4)\n"
          ]
        },
        {
          "output_type": "display_data",
          "data": {
            "text/plain": [
              "<Figure size 640x480 with 1 Axes>"
            ],
            "image/png": "[encoded data removed]"
          },
          "metadata": {}
        },
        {
          "output_type": "stream",
          "name": "stdout",
          "text": [
            "Number of nodes searched: 6668\n",
            "(1, 0)\n"
          ]
        },
        {
          "output_type": "display_data",
          "data": {
            "text/plain": [
              "<Figure size 640x480 with 1 Axes>"
            ],
            "image/png": "[encoded data removed]"
          },
          "metadata": {}
        },
        {
          "output_type": "execute_result",
          "data": {
            "text/plain": [
              "{1: 1, -1: 0, 0: 0}"
            ]
          },
          "metadata": {},
          "execution_count": 269
        }
      ],
      "source": [
        "# red is 1, PLAYER_1\n",
        "# yellow is -1, PLAYER_2\n",
        "def play_smart_h(p1, p2, N = 1):\n",
        "    global prev_mean\n",
        "    score_board = {1: 0, -1: 0, 0: 0} # count\n",
        "\n",
        "    game = [[0, 0, 0, 0, 0, 0, 0],\n",
        "            [0, 0, 0, 0, 0, 0, 0],\n",
        "            [0, 0, 0, 0, 0, 0, 0],\n",
        "            [0, 0, 0, 0, 0, 0, 0],\n",
        "            [0, 0, 0, 0, 0, 0, 0],\n",
        "            [0, 0, 0, 0, 0, 0, 0]]   # each game empty board\n",
        "\n",
        "    prev_mean = False       # no prev mean\n",
        "    player = PLAYER_1   #start with player 1 aka red\n",
        "\n",
        "    while not terminal(game):\n",
        "        if (player == PLAYER_1):\n",
        "            action = p1(game, 6, player)\n",
        "        else:\n",
        "            action = p2(game, 4, player)\n",
        "        if action[0] == player * -1:\n",
        "            prev_mean = True    # if it was a mean move then set to true\n",
        "        else:\n",
        "            prev_mean = False\n",
        "\n",
        "        temp_board = result(game, player, action)\n",
        "        game = temp_board\n",
        "        print(action)\n",
        "        visualize(temp_board)\n",
        "        if terminal(game): # if at a end game point\n",
        "            score = utility(game) # see if red, yellow or draw\n",
        "            score_board[score] += 1\n",
        "            break\n",
        "\n",
        "        player = player * -1 # switch player\n",
        "\n",
        "    return score_board\n",
        "\n",
        "play_smart_h(smart_player_h, smart_player_h_second)\n"
      ]
    },
    {
      "cell_type": "markdown",
      "metadata": {
        "id": "UFhDH9M_L8cp"
      },
      "source": [
        "---\n",
        "Assignment adapted from [Michael Hahsler](https://github.com/mhahsler/CS7320-AI) under [CC BY-SA](https://creativecommons.org/licenses/by-sa/4.0/deed.en) license.\n"
      ]
    },
    {
      "cell_type": "code",
      "source": [
        "test"
      ],
      "metadata": {
        "id": "_Pp7vSRA8J18"
      },
      "execution_count": null,
      "outputs": []
    },
    {
      "cell_type": "code",
      "source": [
        "test"
      ],
      "metadata": {
        "id": "-aTp_p7U8L4u"
      },
      "execution_count": null,
      "outputs": []
    },
    {
      "cell_type": "code",
      "source": [
        "test"
      ],
      "metadata": {
        "id": "iJOPR5Kn8L7j"
      },
      "execution_count": null,
      "outputs": []
    },
    {
      "cell_type": "code",
      "source": [
        "test"
      ],
      "metadata": {
        "id": "RKHSEKLp8L9x"
      },
      "execution_count": null,
      "outputs": []
    },
    {
      "cell_type": "code",
      "source": [
        "test"
      ],
      "metadata": {
        "id": "9mJIGE4e8MAC"
      },
      "execution_count": null,
      "outputs": []
    },
    {
      "cell_type": "code",
      "source": [
        "test"
      ],
      "metadata": {
        "id": "a547h-408MIR"
      },
      "execution_count": null,
      "outputs": []
    },
    {
      "cell_type": "code",
      "source": [
        "test"
      ],
      "metadata": {
        "id": "O60GeGtC8MKL"
      },
      "execution_count": null,
      "outputs": []
    },
    {
      "cell_type": "code",
      "source": [
        "test"
      ],
      "metadata": {
        "id": "0RQ0z6J68MLY"
      },
      "execution_count": null,
      "outputs": []
    },
    {
      "cell_type": "code",
      "source": [
        "test"
      ],
      "metadata": {
        "id": "oD_aP_Ja8MMk"
      },
      "execution_count": null,
      "outputs": []
    },
    {
      "cell_type": "code",
      "source": [
        "test"
      ],
      "metadata": {
        "id": "PH2W4cf08MNw"
      },
      "execution_count": null,
      "outputs": []
    },
    {
      "cell_type": "code",
      "source": [
        "test"
      ],
      "metadata": {
        "id": "qFeXlHtC8MO6"
      },
      "execution_count": null,
      "outputs": []
    },
    {
      "cell_type": "code",
      "source": [
        "test"
      ],
      "metadata": {
        "id": "LIyieDmG8MQF"
      },
      "execution_count": null,
      "outputs": []
    },
    {
      "cell_type": "code",
      "source": [
        "test"
      ],
      "metadata": {
        "id": "N3uznAKz8MRK"
      },
      "execution_count": null,
      "outputs": []
    },
    {
      "cell_type": "code",
      "source": [
        "test"
      ],
      "metadata": {
        "id": "04_WUKV58MSP"
      },
      "execution_count": null,
      "outputs": []
    },
    {
      "cell_type": "code",
      "source": [
        "test"
      ],
      "metadata": {
        "id": "CNZPaB2N8MTb"
      },
      "execution_count": null,
      "outputs": []
    },
    {
      "cell_type": "code",
      "source": [
        "test"
      ],
      "metadata": {
        "id": "dAFg82nS8MUe"
      },
      "execution_count": null,
      "outputs": []
    },
    {
      "cell_type": "code",
      "source": [
        "test"
      ],
      "metadata": {
        "id": "HKHEugv38MV6"
      },
      "execution_count": null,
      "outputs": []
    },
    {
      "cell_type": "code",
      "source": [
        "test"
      ],
      "metadata": {
        "id": "JoYpIwCd8MXG"
      },
      "execution_count": null,
      "outputs": []
    },
    {
      "cell_type": "code",
      "source": [
        "test"
      ],
      "metadata": {
        "id": "TMOsSWw58MYP"
      },
      "execution_count": null,
      "outputs": []
    },
    {
      "cell_type": "code",
      "source": [
        "test"
      ],
      "metadata": {
        "id": "OtvozvtQ8MZW"
      },
      "execution_count": null,
      "outputs": []
    },
    {
      "cell_type": "code",
      "source": [
        "test"
      ],
      "metadata": {
        "id": "JN842LEh8MbH"
      },
      "execution_count": null,
      "outputs": []
    },
    {
      "cell_type": "code",
      "source": [
        "test"
      ],
      "metadata": {
        "id": "BoLPzcGp8McR"
      },
      "execution_count": null,
      "outputs": []
    },
    {
      "cell_type": "code",
      "source": [
        "test"
      ],
      "metadata": {
        "id": "19r_gcAK8Mdb"
      },
      "execution_count": null,
      "outputs": []
    },
    {
      "cell_type": "code",
      "source": [
        "test"
      ],
      "metadata": {
        "id": "JkDUqxwZ8Mee"
      },
      "execution_count": null,
      "outputs": []
    },
    {
      "cell_type": "code",
      "source": [
        "test"
      ],
      "metadata": {
        "id": "6euOZ7GF8Mfq"
      },
      "execution_count": null,
      "outputs": []
    },
    {
      "cell_type": "code",
      "source": [
        "test"
      ],
      "metadata": {
        "id": "JjnPcHkJ8Mg1"
      },
      "execution_count": null,
      "outputs": []
    },
    {
      "cell_type": "code",
      "source": [
        "test"
      ],
      "metadata": {
        "id": "aZBypxOQ8MiL"
      },
      "execution_count": null,
      "outputs": []
    },
    {
      "cell_type": "code",
      "source": [
        "test"
      ],
      "metadata": {
        "id": "YMQZxse28Mjs"
      },
      "execution_count": null,
      "outputs": []
    },
    {
      "cell_type": "code",
      "source": [
        "test"
      ],
      "metadata": {
        "id": "dUT51BTX8Mk6"
      },
      "execution_count": null,
      "outputs": []
    },
    {
      "cell_type": "code",
      "source": [
        "test"
      ],
      "metadata": {
        "id": "mglkUagK8MmN"
      },
      "execution_count": null,
      "outputs": []
    },
    {
      "cell_type": "code",
      "source": [
        "test"
      ],
      "metadata": {
        "id": "1gzlckJ58Mog"
      },
      "execution_count": null,
      "outputs": []
    },
    {
      "cell_type": "code",
      "source": [
        "test"
      ],
      "metadata": {
        "id": "FzUN1XhE8MqV"
      },
      "execution_count": null,
      "outputs": []
    },
    {
      "cell_type": "code",
      "source": [
        "test"
      ],
      "metadata": {
        "id": "OMNZPG8j8MtL"
      },
      "execution_count": null,
      "outputs": []
    },
    {
      "cell_type": "code",
      "source": [
        "test"
      ],
      "metadata": {
        "id": "xTrYxaZm8MuY"
      },
      "execution_count": null,
      "outputs": []
    },
    {
      "cell_type": "code",
      "source": [
        "test"
      ],
      "metadata": {
        "id": "j96NLEaL8Mvr"
      },
      "execution_count": null,
      "outputs": []
    },
    {
      "cell_type": "code",
      "source": [
        "test"
      ],
      "metadata": {
        "id": "VvNU8D6-8MxC"
      },
      "execution_count": null,
      "outputs": []
    },
    {
      "cell_type": "code",
      "source": [
        "test"
      ],
      "metadata": {
        "id": "6aZTWQIw8MyV"
      },
      "execution_count": null,
      "outputs": []
    },
    {
      "cell_type": "code",
      "source": [
        "test"
      ],
      "metadata": {
        "id": "p69-P_Xa8Mzm"
      },
      "execution_count": null,
      "outputs": []
    },
    {
      "cell_type": "code",
      "source": [
        "test"
      ],
      "metadata": {
        "id": "YdDDYqLm8M00"
      },
      "execution_count": null,
      "outputs": []
    },
    {
      "cell_type": "code",
      "source": [
        "test"
      ],
      "metadata": {
        "id": "S_m-aVNj8M2K"
      },
      "execution_count": null,
      "outputs": []
    },
    {
      "cell_type": "code",
      "source": [
        "test"
      ],
      "metadata": {
        "id": "x8k6L3lM8M3b"
      },
      "execution_count": null,
      "outputs": []
    },
    {
      "cell_type": "code",
      "source": [
        "test"
      ],
      "metadata": {
        "id": "kSGdmcaX8M4w"
      },
      "execution_count": null,
      "outputs": []
    },
    {
      "cell_type": "code",
      "source": [
        "test"
      ],
      "metadata": {
        "id": "aHNQJYBc8M6L"
      },
      "execution_count": null,
      "outputs": []
    },
    {
      "cell_type": "code",
      "source": [
        "test"
      ],
      "metadata": {
        "id": "WUEbQIlz8M-k"
      },
      "execution_count": null,
      "outputs": []
    },
    {
      "cell_type": "code",
      "source": [
        "test"
      ],
      "metadata": {
        "id": "kODCK9gM8M_y"
      },
      "execution_count": null,
      "outputs": []
    },
    {
      "cell_type": "code",
      "source": [
        "test"
      ],
      "metadata": {
        "id": "IhaAdCsX8NBF"
      },
      "execution_count": null,
      "outputs": []
    },
    {
      "cell_type": "code",
      "source": [
        "test"
      ],
      "metadata": {
        "id": "pko6ezKN8NCO"
      },
      "execution_count": null,
      "outputs": []
    },
    {
      "cell_type": "code",
      "source": [
        "test"
      ],
      "metadata": {
        "id": "STXq0c_g8NDl"
      },
      "execution_count": null,
      "outputs": []
    },
    {
      "cell_type": "code",
      "source": [
        "test"
      ],
      "metadata": {
        "id": "wxub9olv8NE0"
      },
      "execution_count": null,
      "outputs": []
    },
    {
      "cell_type": "code",
      "source": [
        "test"
      ],
      "metadata": {
        "id": "PunoNXVT8NGG"
      },
      "execution_count": null,
      "outputs": []
    },
    {
      "cell_type": "code",
      "source": [
        "test"
      ],
      "metadata": {
        "id": "otIEIbq08NHd"
      },
      "execution_count": null,
      "outputs": []
    },
    {
      "cell_type": "code",
      "source": [
        "test"
      ],
      "metadata": {
        "id": "T0XWp41Q8NIq"
      },
      "execution_count": null,
      "outputs": []
    },
    {
      "cell_type": "code",
      "source": [
        "test"
      ],
      "metadata": {
        "id": "G8Yv_uzo8NKF"
      },
      "execution_count": null,
      "outputs": []
    },
    {
      "cell_type": "code",
      "source": [
        "test"
      ],
      "metadata": {
        "id": "viVIrVI-8NLZ"
      },
      "execution_count": null,
      "outputs": []
    },
    {
      "cell_type": "code",
      "source": [
        "test"
      ],
      "metadata": {
        "id": "La0H3jTv8NMv"
      },
      "execution_count": null,
      "outputs": []
    },
    {
      "cell_type": "code",
      "source": [
        "test"
      ],
      "metadata": {
        "id": "GoTfJzUH8RKl"
      },
      "execution_count": null,
      "outputs": []
    },
    {
      "cell_type": "code",
      "source": [
        "test"
      ],
      "metadata": {
        "id": "mIkKlX138RTL"
      },
      "execution_count": null,
      "outputs": []
    },
    {
      "cell_type": "code",
      "source": [
        "test"
      ],
      "metadata": {
        "id": "mdl12vQX8RUT"
      },
      "execution_count": null,
      "outputs": []
    },
    {
      "cell_type": "code",
      "source": [
        "test"
      ],
      "metadata": {
        "id": "FvdA5x_B8RVi"
      },
      "execution_count": null,
      "outputs": []
    },
    {
      "cell_type": "code",
      "source": [
        "test"
      ],
      "metadata": {
        "id": "2QsHkI1T8RXF"
      },
      "execution_count": null,
      "outputs": []
    },
    {
      "cell_type": "code",
      "source": [
        "test"
      ],
      "metadata": {
        "id": "WmRjpiZu8RYf"
      },
      "execution_count": null,
      "outputs": []
    },
    {
      "cell_type": "code",
      "source": [
        "test"
      ],
      "metadata": {
        "id": "Hw_V4OfZ8RZy"
      },
      "execution_count": null,
      "outputs": []
    },
    {
      "cell_type": "code",
      "source": [
        "test"
      ],
      "metadata": {
        "id": "eewYK9Ml8RbH"
      },
      "execution_count": null,
      "outputs": []
    },
    {
      "cell_type": "code",
      "source": [
        "test"
      ],
      "metadata": {
        "id": "U1-0webP8Rch"
      },
      "execution_count": null,
      "outputs": []
    },
    {
      "cell_type": "code",
      "source": [
        "test"
      ],
      "metadata": {
        "id": "JvlE6zZQ8Rdw"
      },
      "execution_count": null,
      "outputs": []
    },
    {
      "cell_type": "code",
      "source": [
        "test"
      ],
      "metadata": {
        "id": "5RITJ10Z8Re6"
      },
      "execution_count": null,
      "outputs": []
    },
    {
      "cell_type": "code",
      "source": [
        "test"
      ],
      "metadata": {
        "id": "Ap37mYgu8RgN"
      },
      "execution_count": null,
      "outputs": []
    },
    {
      "cell_type": "code",
      "source": [
        "test"
      ],
      "metadata": {
        "id": "ZYoGGr5i8Rhf"
      },
      "execution_count": null,
      "outputs": []
    },
    {
      "cell_type": "code",
      "source": [
        "test"
      ],
      "metadata": {
        "id": "Jv0scYFo8Ris"
      },
      "execution_count": null,
      "outputs": []
    },
    {
      "cell_type": "code",
      "source": [
        "test"
      ],
      "metadata": {
        "id": "mwUqwcsm8Rk0"
      },
      "execution_count": null,
      "outputs": []
    },
    {
      "cell_type": "code",
      "source": [
        "test"
      ],
      "metadata": {
        "id": "i2I07UWQ8RmB"
      },
      "execution_count": null,
      "outputs": []
    },
    {
      "cell_type": "code",
      "source": [
        "test"
      ],
      "metadata": {
        "id": "941Ohhfk8RnU"
      },
      "execution_count": null,
      "outputs": []
    },
    {
      "cell_type": "code",
      "source": [
        "test"
      ],
      "metadata": {
        "id": "Q2HOJtOu8Roi"
      },
      "execution_count": null,
      "outputs": []
    },
    {
      "cell_type": "code",
      "source": [
        "test"
      ],
      "metadata": {
        "id": "1QFhEh0T8Rp5"
      },
      "execution_count": null,
      "outputs": []
    },
    {
      "cell_type": "code",
      "source": [
        "test"
      ],
      "metadata": {
        "id": "Me14MYPz8RrM"
      },
      "execution_count": null,
      "outputs": []
    },
    {
      "cell_type": "code",
      "source": [
        "test"
      ],
      "metadata": {
        "id": "ZP50-geP8RtR"
      },
      "execution_count": null,
      "outputs": []
    },
    {
      "cell_type": "code",
      "source": [
        "test"
      ],
      "metadata": {
        "id": "0rW-aaO18Rum"
      },
      "execution_count": null,
      "outputs": []
    },
    {
      "cell_type": "code",
      "source": [
        "test"
      ],
      "metadata": {
        "id": "elb58gAN8RwX"
      },
      "execution_count": null,
      "outputs": []
    },
    {
      "cell_type": "code",
      "source": [
        "test"
      ],
      "metadata": {
        "id": "ZlANCMCA8Rxt"
      },
      "execution_count": null,
      "outputs": []
    },
    {
      "cell_type": "code",
      "source": [
        "test"
      ],
      "metadata": {
        "id": "jZpHfvOy8RzD"
      },
      "execution_count": null,
      "outputs": []
    },
    {
      "cell_type": "code",
      "source": [
        "test"
      ],
      "metadata": {
        "id": "LqEIqXyK8R0a"
      },
      "execution_count": null,
      "outputs": []
    },
    {
      "cell_type": "code",
      "source": [
        "test"
      ],
      "metadata": {
        "id": "q43Nn0YS8R4x"
      },
      "execution_count": null,
      "outputs": []
    },
    {
      "cell_type": "code",
      "source": [
        "test"
      ],
      "metadata": {
        "id": "tgXFuogQ8Ufs"
      },
      "execution_count": null,
      "outputs": []
    },
    {
      "cell_type": "code",
      "source": [
        "test"
      ],
      "metadata": {
        "id": "lxYhTQDK8Un8"
      },
      "execution_count": null,
      "outputs": []
    },
    {
      "cell_type": "code",
      "source": [
        "test"
      ],
      "metadata": {
        "id": "xuShF3XQ8UpD"
      },
      "execution_count": null,
      "outputs": []
    },
    {
      "cell_type": "code",
      "source": [
        "test"
      ],
      "metadata": {
        "id": "Rq3Mfhqv8UqM"
      },
      "execution_count": null,
      "outputs": []
    },
    {
      "cell_type": "code",
      "source": [
        "test"
      ],
      "metadata": {
        "id": "IV6D2y1m8Urk"
      },
      "execution_count": null,
      "outputs": []
    },
    {
      "cell_type": "code",
      "source": [
        "test"
      ],
      "metadata": {
        "id": "FwcOr5p28Us-"
      },
      "execution_count": null,
      "outputs": []
    },
    {
      "cell_type": "code",
      "source": [
        "test"
      ],
      "metadata": {
        "id": "Axjrukfo8Uuo"
      },
      "execution_count": null,
      "outputs": []
    },
    {
      "cell_type": "code",
      "source": [
        "test"
      ],
      "metadata": {
        "id": "pvBjNGwd8UwG"
      },
      "execution_count": null,
      "outputs": []
    },
    {
      "cell_type": "code",
      "source": [
        "test"
      ],
      "metadata": {
        "id": "pq2yhD9J8Uyb"
      },
      "execution_count": null,
      "outputs": []
    },
    {
      "cell_type": "code",
      "source": [
        "test"
      ],
      "metadata": {
        "id": "-bELCFj88Uz3"
      },
      "execution_count": null,
      "outputs": []
    },
    {
      "cell_type": "code",
      "source": [
        "test"
      ],
      "metadata": {
        "id": "jmkrSk_68U1O"
      },
      "execution_count": null,
      "outputs": []
    },
    {
      "cell_type": "code",
      "source": [
        "test"
      ],
      "metadata": {
        "id": "SOCcabpH8U2l"
      },
      "execution_count": null,
      "outputs": []
    },
    {
      "cell_type": "code",
      "source": [
        "test"
      ],
      "metadata": {
        "id": "CIG4yKKv8U3_"
      },
      "execution_count": null,
      "outputs": []
    },
    {
      "cell_type": "code",
      "source": [
        "test"
      ],
      "metadata": {
        "id": "yuKlp60a8U5W"
      },
      "execution_count": null,
      "outputs": []
    },
    {
      "cell_type": "code",
      "source": [
        "test"
      ],
      "metadata": {
        "id": "fxn5-SCy8U6o"
      },
      "execution_count": null,
      "outputs": []
    },
    {
      "cell_type": "code",
      "source": [
        "test"
      ],
      "metadata": {
        "id": "0fTW2lKu8U8A"
      },
      "execution_count": null,
      "outputs": []
    },
    {
      "cell_type": "code",
      "source": [
        "test"
      ],
      "metadata": {
        "id": "i-r_MQ_d8U9d"
      },
      "execution_count": null,
      "outputs": []
    },
    {
      "cell_type": "code",
      "source": [
        "test"
      ],
      "metadata": {
        "id": "WWpJ9mi18U--"
      },
      "execution_count": null,
      "outputs": []
    },
    {
      "cell_type": "code",
      "source": [
        "test"
      ],
      "metadata": {
        "id": "1GbYVSR38VAe"
      },
      "execution_count": null,
      "outputs": []
    },
    {
      "cell_type": "code",
      "source": [
        "test"
      ],
      "metadata": {
        "id": "65FyI2X18VDb"
      },
      "execution_count": null,
      "outputs": []
    },
    {
      "cell_type": "code",
      "source": [
        "test"
      ],
      "metadata": {
        "id": "RG3YeC1o8VE1"
      },
      "execution_count": null,
      "outputs": []
    },
    {
      "cell_type": "code",
      "source": [
        "test"
      ],
      "metadata": {
        "id": "8sImkbZr8VGL"
      },
      "execution_count": null,
      "outputs": []
    },
    {
      "cell_type": "code",
      "source": [
        "test"
      ],
      "metadata": {
        "id": "8xpEioQJ8VHq"
      },
      "execution_count": null,
      "outputs": []
    },
    {
      "cell_type": "code",
      "source": [
        "test"
      ],
      "metadata": {
        "id": "ChQsQw768VJV"
      },
      "execution_count": null,
      "outputs": []
    },
    {
      "cell_type": "code",
      "source": [
        "test"
      ],
      "metadata": {
        "id": "Eq0bZemy8VKr"
      },
      "execution_count": null,
      "outputs": []
    },
    {
      "cell_type": "code",
      "source": [
        "test"
      ],
      "metadata": {
        "id": "MP6NRPTY8VME"
      },
      "execution_count": null,
      "outputs": []
    },
    {
      "cell_type": "code",
      "source": [
        "test"
      ],
      "metadata": {
        "id": "nLSKauZi8VNo"
      },
      "execution_count": null,
      "outputs": []
    },
    {
      "cell_type": "code",
      "source": [
        "test"
      ],
      "metadata": {
        "id": "PfwY64e88VPE"
      },
      "execution_count": null,
      "outputs": []
    },
    {
      "cell_type": "code",
      "source": [
        "test"
      ],
      "metadata": {
        "id": "NYYGPvRB8VQi"
      },
      "execution_count": null,
      "outputs": []
    },
    {
      "cell_type": "code",
      "source": [
        "test"
      ],
      "metadata": {
        "id": "eqOCgCal8VSJ"
      },
      "execution_count": null,
      "outputs": []
    },
    {
      "cell_type": "code",
      "source": [
        "test"
      ],
      "metadata": {
        "id": "70sYqgTI8VTn"
      },
      "execution_count": null,
      "outputs": []
    },
    {
      "cell_type": "code",
      "source": [
        "test"
      ],
      "metadata": {
        "id": "atlV3mZO8VXm"
      },
      "execution_count": null,
      "outputs": []
    },
    {
      "cell_type": "code",
      "source": [
        "test"
      ],
      "metadata": {
        "id": "KZyJaFPy8VZG"
      },
      "execution_count": null,
      "outputs": []
    },
    {
      "cell_type": "code",
      "source": [
        "test"
      ],
      "metadata": {
        "id": "LoHpTc408Var"
      },
      "execution_count": null,
      "outputs": []
    },
    {
      "cell_type": "code",
      "source": [
        "test"
      ],
      "metadata": {
        "id": "uu0Y0Auk8VcH"
      },
      "execution_count": null,
      "outputs": []
    },
    {
      "cell_type": "code",
      "source": [
        "test"
      ],
      "metadata": {
        "id": "54eoIGJO8Vdp"
      },
      "execution_count": null,
      "outputs": []
    },
    {
      "cell_type": "code",
      "source": [
        "test"
      ],
      "metadata": {
        "id": "UQ4_-Jt68VfN"
      },
      "execution_count": null,
      "outputs": []
    },
    {
      "cell_type": "code",
      "source": [
        "test"
      ],
      "metadata": {
        "id": "VMaWOB-X8Vhb"
      },
      "execution_count": null,
      "outputs": []
    },
    {
      "cell_type": "code",
      "source": [
        "test"
      ],
      "metadata": {
        "id": "mp1rAqMO8VjG"
      },
      "execution_count": null,
      "outputs": []
    },
    {
      "cell_type": "code",
      "source": [
        "test"
      ],
      "metadata": {
        "id": "dbtS4gen8Vkq"
      },
      "execution_count": null,
      "outputs": []
    },
    {
      "cell_type": "code",
      "source": [
        "test"
      ],
      "metadata": {
        "id": "fOl_mavu8VrV"
      },
      "execution_count": null,
      "outputs": []
    },
    {
      "cell_type": "code",
      "source": [
        "test"
      ],
      "metadata": {
        "id": "iBE9KkI78Vs9"
      },
      "execution_count": null,
      "outputs": []
    },
    {
      "cell_type": "code",
      "source": [
        "test"
      ],
      "metadata": {
        "id": "NJzhV1n18Vuq"
      },
      "execution_count": null,
      "outputs": []
    },
    {
      "cell_type": "code",
      "source": [
        "test"
      ],
      "metadata": {
        "id": "IionpEtH8VwP"
      },
      "execution_count": null,
      "outputs": []
    },
    {
      "cell_type": "code",
      "source": [
        "test"
      ],
      "metadata": {
        "id": "JVF176yV8Vx7"
      },
      "execution_count": null,
      "outputs": []
    },
    {
      "cell_type": "code",
      "source": [
        "test"
      ],
      "metadata": {
        "id": "aVqdkm728Vzi"
      },
      "execution_count": null,
      "outputs": []
    },
    {
      "cell_type": "code",
      "source": [
        "test"
      ],
      "metadata": {
        "id": "sGprVqAP8V1L"
      },
      "execution_count": null,
      "outputs": []
    },
    {
      "cell_type": "code",
      "source": [
        "test"
      ],
      "metadata": {
        "id": "ZAksjCuO8V2t"
      },
      "execution_count": null,
      "outputs": []
    },
    {
      "cell_type": "code",
      "source": [
        "test"
      ],
      "metadata": {
        "id": "JItPyVxw8V4T"
      },
      "execution_count": null,
      "outputs": []
    },
    {
      "cell_type": "code",
      "source": [
        "test"
      ],
      "metadata": {
        "id": "eJrglYIS8V6K"
      },
      "execution_count": null,
      "outputs": []
    },
    {
      "cell_type": "code",
      "source": [
        "test"
      ],
      "metadata": {
        "id": "ULXqT4xb8V8C"
      },
      "execution_count": null,
      "outputs": []
    },
    {
      "cell_type": "code",
      "source": [
        "test"
      ],
      "metadata": {
        "id": "IwxYGgp28WCC"
      },
      "execution_count": null,
      "outputs": []
    },
    {
      "cell_type": "code",
      "source": [
        "test"
      ],
      "metadata": {
        "id": "D9CbKqTY8WDn"
      },
      "execution_count": null,
      "outputs": []
    },
    {
      "cell_type": "code",
      "source": [
        "test"
      ],
      "metadata": {
        "id": "aAcLWjjX8WFR"
      },
      "execution_count": null,
      "outputs": []
    },
    {
      "cell_type": "code",
      "source": [
        "test"
      ],
      "metadata": {
        "id": "ns8UVCo-8WG6"
      },
      "execution_count": null,
      "outputs": []
    },
    {
      "cell_type": "code",
      "source": [
        "test"
      ],
      "metadata": {
        "id": "f4p2ek128WId"
      },
      "execution_count": null,
      "outputs": []
    },
    {
      "cell_type": "code",
      "source": [
        "test"
      ],
      "metadata": {
        "id": "gTqK7Sca8WKI"
      },
      "execution_count": null,
      "outputs": []
    },
    {
      "cell_type": "code",
      "source": [
        "test"
      ],
      "metadata": {
        "id": "AZvGJaJE8WLt"
      },
      "execution_count": null,
      "outputs": []
    },
    {
      "cell_type": "code",
      "source": [
        "test"
      ],
      "metadata": {
        "id": "F6x8w3iI8WNZ"
      },
      "execution_count": null,
      "outputs": []
    },
    {
      "cell_type": "code",
      "source": [
        "test"
      ],
      "metadata": {
        "id": "Y7UWBqRy8WPJ"
      },
      "execution_count": null,
      "outputs": []
    },
    {
      "cell_type": "code",
      "source": [
        "test"
      ],
      "metadata": {
        "id": "paMsKt058WQ0"
      },
      "execution_count": null,
      "outputs": []
    },
    {
      "cell_type": "code",
      "source": [
        "test"
      ],
      "metadata": {
        "id": "MsjLB4js8WYR"
      },
      "execution_count": null,
      "outputs": []
    },
    {
      "cell_type": "code",
      "source": [
        "test"
      ],
      "metadata": {
        "id": "ZJbJw0hH8WaC"
      },
      "execution_count": null,
      "outputs": []
    },
    {
      "cell_type": "code",
      "source": [
        "test"
      ],
      "metadata": {
        "id": "c-z2skkk8Wbs"
      },
      "execution_count": null,
      "outputs": []
    },
    {
      "cell_type": "code",
      "source": [
        "test"
      ],
      "metadata": {
        "id": "I-OCQLFS8Wdj"
      },
      "execution_count": null,
      "outputs": []
    },
    {
      "cell_type": "code",
      "source": [
        "test"
      ],
      "metadata": {
        "id": "n6BbogkH8Wff"
      },
      "execution_count": null,
      "outputs": []
    },
    {
      "cell_type": "code",
      "source": [
        "test"
      ],
      "metadata": {
        "id": "la2ohuOO8WhV"
      },
      "execution_count": null,
      "outputs": []
    },
    {
      "cell_type": "code",
      "source": [
        "test"
      ],
      "metadata": {
        "id": "6Gc2akfX8WjO"
      },
      "execution_count": null,
      "outputs": []
    },
    {
      "cell_type": "code",
      "source": [
        "test"
      ],
      "metadata": {
        "id": "i8OL2ip48WlI"
      },
      "execution_count": null,
      "outputs": []
    },
    {
      "cell_type": "code",
      "source": [
        "test"
      ],
      "metadata": {
        "id": "MoKJ4Fnk8Wmt"
      },
      "execution_count": null,
      "outputs": []
    },
    {
      "cell_type": "code",
      "source": [
        "test"
      ],
      "metadata": {
        "id": "AQEYbrlz8ZUt"
      },
      "execution_count": null,
      "outputs": []
    },
    {
      "cell_type": "code",
      "source": [
        "test"
      ],
      "metadata": {
        "id": "o-MkJwZh8Zdw"
      },
      "execution_count": null,
      "outputs": []
    },
    {
      "cell_type": "code",
      "source": [
        "test"
      ],
      "metadata": {
        "id": "rMXlKeSK8ZfO"
      },
      "execution_count": null,
      "outputs": []
    },
    {
      "cell_type": "code",
      "source": [
        "test"
      ],
      "metadata": {
        "id": "ZmkY5kU08Zgv"
      },
      "execution_count": null,
      "outputs": []
    },
    {
      "cell_type": "code",
      "source": [
        "test"
      ],
      "metadata": {
        "id": "3PbRALrE8ZiV"
      },
      "execution_count": null,
      "outputs": []
    },
    {
      "cell_type": "code",
      "source": [
        "test"
      ],
      "metadata": {
        "id": "971uREyt8Zj_"
      },
      "execution_count": null,
      "outputs": []
    },
    {
      "cell_type": "code",
      "source": [
        "test"
      ],
      "metadata": {
        "id": "SqJjLyE98Zlx"
      },
      "execution_count": null,
      "outputs": []
    },
    {
      "cell_type": "code",
      "source": [
        "test"
      ],
      "metadata": {
        "id": "B8FrhOfZ8Znu"
      },
      "execution_count": null,
      "outputs": []
    },
    {
      "cell_type": "code",
      "source": [
        "test"
      ],
      "metadata": {
        "id": "5VdCE8bY8Zpx"
      },
      "execution_count": null,
      "outputs": []
    },
    {
      "cell_type": "code",
      "source": [
        "test"
      ],
      "metadata": {
        "id": "qScvf46n8Zrg"
      },
      "execution_count": null,
      "outputs": []
    },
    {
      "cell_type": "code",
      "source": [
        "test"
      ],
      "metadata": {
        "id": "y__VGfjv8ZtI"
      },
      "execution_count": null,
      "outputs": []
    },
    {
      "cell_type": "code",
      "source": [
        "test"
      ],
      "metadata": {
        "id": "P7AzGy7a8ZwB"
      },
      "execution_count": null,
      "outputs": []
    },
    {
      "cell_type": "code",
      "source": [
        "test"
      ],
      "metadata": {
        "id": "ls74QPdf8Zxx"
      },
      "execution_count": null,
      "outputs": []
    },
    {
      "cell_type": "code",
      "source": [
        "test"
      ],
      "metadata": {
        "id": "iXUNCK-L8Zzb"
      },
      "execution_count": null,
      "outputs": []
    },
    {
      "cell_type": "code",
      "source": [
        "test"
      ],
      "metadata": {
        "id": "uT1rAEs-8Z1I"
      },
      "execution_count": null,
      "outputs": []
    },
    {
      "cell_type": "code",
      "source": [
        "test"
      ],
      "metadata": {
        "id": "PHHg_mtu8Z2v"
      },
      "execution_count": null,
      "outputs": []
    },
    {
      "cell_type": "code",
      "source": [
        "test"
      ],
      "metadata": {
        "id": "_syrLUtM8Z53"
      },
      "execution_count": null,
      "outputs": []
    },
    {
      "cell_type": "code",
      "source": [
        "test"
      ],
      "metadata": {
        "id": "8KHBU-iV8Z7g"
      },
      "execution_count": null,
      "outputs": []
    },
    {
      "cell_type": "code",
      "source": [
        "test"
      ],
      "metadata": {
        "id": "SV0ZggqS8Z9G"
      },
      "execution_count": null,
      "outputs": []
    },
    {
      "cell_type": "code",
      "source": [
        "test"
      ],
      "metadata": {
        "id": "nhulT-d88Z-9"
      },
      "execution_count": null,
      "outputs": []
    },
    {
      "cell_type": "code",
      "source": [
        "test"
      ],
      "metadata": {
        "id": "gQrG9LaS8aDa"
      },
      "execution_count": null,
      "outputs": []
    },
    {
      "cell_type": "code",
      "source": [
        "test"
      ],
      "metadata": {
        "id": "rxjiKr5O8aFH"
      },
      "execution_count": null,
      "outputs": []
    },
    {
      "cell_type": "code",
      "source": [
        "test"
      ],
      "metadata": {
        "id": "PjLKG2Le8aGy"
      },
      "execution_count": null,
      "outputs": []
    },
    {
      "cell_type": "code",
      "source": [
        "test"
      ],
      "metadata": {
        "id": "t8yZQZqa8aIh"
      },
      "execution_count": null,
      "outputs": []
    },
    {
      "cell_type": "code",
      "source": [
        "test"
      ],
      "metadata": {
        "id": "jVd2D9IN8aMo"
      },
      "execution_count": null,
      "outputs": []
    },
    {
      "cell_type": "code",
      "source": [
        "test"
      ],
      "metadata": {
        "id": "WZ2zo_kD8aOU"
      },
      "execution_count": null,
      "outputs": []
    },
    {
      "cell_type": "code",
      "source": [
        "test"
      ],
      "metadata": {
        "id": "ZOL0G4oH8aP9"
      },
      "execution_count": null,
      "outputs": []
    },
    {
      "cell_type": "code",
      "source": [
        "test"
      ],
      "metadata": {
        "id": "UqMZx5aD8aRu"
      },
      "execution_count": null,
      "outputs": []
    },
    {
      "cell_type": "code",
      "source": [
        "test"
      ],
      "metadata": {
        "id": "EdV2SCYY8aXE"
      },
      "execution_count": null,
      "outputs": []
    },
    {
      "cell_type": "code",
      "source": [
        "test"
      ],
      "metadata": {
        "id": "K9WGkWap8aY5"
      },
      "execution_count": null,
      "outputs": []
    },
    {
      "cell_type": "code",
      "source": [
        "test"
      ],
      "metadata": {
        "id": "NsvA7peG8abD"
      },
      "execution_count": null,
      "outputs": []
    },
    {
      "cell_type": "code",
      "source": [
        "test"
      ],
      "metadata": {
        "id": "PxvOneGV8agq"
      },
      "execution_count": null,
      "outputs": []
    },
    {
      "cell_type": "code",
      "source": [
        "test"
      ],
      "metadata": {
        "id": "nlGVybIN8aiX"
      },
      "execution_count": null,
      "outputs": []
    },
    {
      "cell_type": "code",
      "source": [
        "test"
      ],
      "metadata": {
        "id": "Sa9FWP4V8akD"
      },
      "execution_count": null,
      "outputs": []
    },
    {
      "cell_type": "code",
      "source": [
        "test"
      ],
      "metadata": {
        "id": "HL1c8Q2V8al7"
      },
      "execution_count": null,
      "outputs": []
    },
    {
      "cell_type": "code",
      "source": [
        "test"
      ],
      "metadata": {
        "id": "NbAAZNCK8asE"
      },
      "execution_count": null,
      "outputs": []
    },
    {
      "cell_type": "code",
      "source": [
        "test"
      ],
      "metadata": {
        "id": "xgT9B4cl8atz"
      },
      "execution_count": null,
      "outputs": []
    },
    {
      "cell_type": "code",
      "source": [
        "test"
      ],
      "metadata": {
        "id": "OJ-tU9ym8avd"
      },
      "execution_count": null,
      "outputs": []
    },
    {
      "cell_type": "code",
      "source": [
        "test"
      ],
      "metadata": {
        "id": "PzhbWaH18a4I"
      },
      "execution_count": null,
      "outputs": []
    },
    {
      "cell_type": "code",
      "source": [
        "test"
      ],
      "metadata": {
        "id": "c3U53l7v8a6k"
      },
      "execution_count": null,
      "outputs": []
    },
    {
      "cell_type": "code",
      "source": [
        "test"
      ],
      "metadata": {
        "id": "OAdc9VxU8bDS"
      },
      "execution_count": null,
      "outputs": []
    },
    {
      "cell_type": "code",
      "source": [
        "test"
      ],
      "metadata": {
        "id": "D--C3fz18bFK"
      },
      "execution_count": null,
      "outputs": []
    },
    {
      "cell_type": "code",
      "source": [
        "test"
      ],
      "metadata": {
        "id": "zuVxRgXq8bhW"
      },
      "execution_count": null,
      "outputs": []
    },
    {
      "cell_type": "code",
      "source": [
        "test"
      ],
      "metadata": {
        "id": "yK9k6ck38bqT"
      },
      "execution_count": null,
      "outputs": []
    },
    {
      "cell_type": "code",
      "source": [
        "test"
      ],
      "metadata": {
        "id": "g6V_4FzK8bsG"
      },
      "execution_count": null,
      "outputs": []
    },
    {
      "cell_type": "code",
      "source": [
        "test"
      ],
      "metadata": {
        "id": "7TAGtHVN8bts"
      },
      "execution_count": null,
      "outputs": []
    },
    {
      "cell_type": "code",
      "source": [
        "test"
      ],
      "metadata": {
        "id": "zhaILOCt8bvV"
      },
      "execution_count": null,
      "outputs": []
    },
    {
      "cell_type": "code",
      "source": [
        "test"
      ],
      "metadata": {
        "id": "1TU3I1W88bxR"
      },
      "execution_count": null,
      "outputs": []
    },
    {
      "cell_type": "code",
      "source": [
        "test"
      ],
      "metadata": {
        "id": "oyDy9_Tx8bzI"
      },
      "execution_count": null,
      "outputs": []
    },
    {
      "cell_type": "code",
      "source": [
        "test"
      ],
      "metadata": {
        "id": "aojnr3Xt8b0v"
      },
      "execution_count": null,
      "outputs": []
    },
    {
      "cell_type": "code",
      "source": [
        "test"
      ],
      "metadata": {
        "id": "wh37-ycw8b2a"
      },
      "execution_count": null,
      "outputs": []
    },
    {
      "cell_type": "code",
      "source": [
        "test"
      ],
      "metadata": {
        "id": "15f1H9y98b4f"
      },
      "execution_count": null,
      "outputs": []
    },
    {
      "cell_type": "code",
      "source": [
        "test"
      ],
      "metadata": {
        "id": "BedHIx5r8b6Q"
      },
      "execution_count": null,
      "outputs": []
    },
    {
      "cell_type": "code",
      "source": [
        "test"
      ],
      "metadata": {
        "id": "tU_mhncD8b9A"
      },
      "execution_count": null,
      "outputs": []
    },
    {
      "cell_type": "code",
      "source": [
        "test"
      ],
      "metadata": {
        "id": "nfMqnYCz8b-v"
      },
      "execution_count": null,
      "outputs": []
    },
    {
      "cell_type": "code",
      "source": [
        "test"
      ],
      "metadata": {
        "id": "kcMePclc8cAn"
      },
      "execution_count": null,
      "outputs": []
    },
    {
      "cell_type": "code",
      "source": [
        "test"
      ],
      "metadata": {
        "id": "2HRioBVk8cCm"
      },
      "execution_count": null,
      "outputs": []
    },
    {
      "cell_type": "code",
      "source": [
        "test"
      ],
      "metadata": {
        "id": "vj5Nyyai8cF1"
      },
      "execution_count": null,
      "outputs": []
    },
    {
      "cell_type": "code",
      "source": [
        "test"
      ],
      "metadata": {
        "id": "h4-TLk2X8cH4"
      },
      "execution_count": null,
      "outputs": []
    },
    {
      "cell_type": "code",
      "source": [
        "test"
      ],
      "metadata": {
        "id": "ptPX_njh8cJl"
      },
      "execution_count": null,
      "outputs": []
    },
    {
      "cell_type": "code",
      "source": [
        "test"
      ],
      "metadata": {
        "id": "brIKuytM8fVg"
      },
      "execution_count": null,
      "outputs": []
    },
    {
      "cell_type": "code",
      "source": [
        "test"
      ],
      "metadata": {
        "id": "qndrgZ058fdn"
      },
      "execution_count": null,
      "outputs": []
    },
    {
      "cell_type": "code",
      "source": [
        "test"
      ],
      "metadata": {
        "id": "31BnPD_N8ffk"
      },
      "execution_count": null,
      "outputs": []
    },
    {
      "cell_type": "code",
      "source": [
        "test"
      ],
      "metadata": {
        "id": "tzyZHFUz8fhg"
      },
      "execution_count": null,
      "outputs": []
    },
    {
      "cell_type": "code",
      "source": [
        "test"
      ],
      "metadata": {
        "id": "AwRLt8Q88fjY"
      },
      "execution_count": null,
      "outputs": []
    },
    {
      "cell_type": "code",
      "source": [
        "test"
      ],
      "metadata": {
        "id": "3SAsEH2C8flQ"
      },
      "execution_count": null,
      "outputs": []
    },
    {
      "cell_type": "code",
      "source": [
        "test"
      ],
      "metadata": {
        "id": "KIZNfO5j8fnK"
      },
      "execution_count": null,
      "outputs": []
    },
    {
      "cell_type": "code",
      "source": [
        "test"
      ],
      "metadata": {
        "id": "Jk9rTpU68fqj"
      },
      "execution_count": null,
      "outputs": []
    },
    {
      "cell_type": "code",
      "source": [
        "test"
      ],
      "metadata": {
        "id": "G6Oj-wYn8fsv"
      },
      "execution_count": null,
      "outputs": []
    },
    {
      "cell_type": "code",
      "source": [
        "test"
      ],
      "metadata": {
        "id": "b4hYPm5g8fu-"
      },
      "execution_count": null,
      "outputs": []
    },
    {
      "cell_type": "code",
      "source": [
        "test"
      ],
      "metadata": {
        "id": "k-4UVApQ8fxH"
      },
      "execution_count": null,
      "outputs": []
    },
    {
      "cell_type": "code",
      "source": [
        "test"
      ],
      "metadata": {
        "id": "FJfY4CcI8fzL"
      },
      "execution_count": null,
      "outputs": []
    },
    {
      "cell_type": "code",
      "source": [
        "test"
      ],
      "metadata": {
        "id": "dSuI9xNS8f1L"
      },
      "execution_count": null,
      "outputs": []
    },
    {
      "cell_type": "code",
      "source": [
        "test"
      ],
      "metadata": {
        "id": "5BNGsiKM8f3T"
      },
      "execution_count": null,
      "outputs": []
    },
    {
      "cell_type": "code",
      "source": [
        "test"
      ],
      "metadata": {
        "id": "SV9usZe88f5T"
      },
      "execution_count": null,
      "outputs": []
    },
    {
      "cell_type": "code",
      "source": [
        "test"
      ],
      "metadata": {
        "id": "Bumi6Fuo8f8q"
      },
      "execution_count": null,
      "outputs": []
    },
    {
      "cell_type": "code",
      "source": [
        "test"
      ],
      "metadata": {
        "id": "wNlFx4RC8f_W"
      },
      "execution_count": null,
      "outputs": []
    },
    {
      "cell_type": "code",
      "source": [
        "test"
      ],
      "metadata": {
        "id": "6Nt4giWi8gBV"
      },
      "execution_count": null,
      "outputs": []
    },
    {
      "cell_type": "code",
      "source": [
        "test"
      ],
      "metadata": {
        "id": "EbAQDWPb8gDX"
      },
      "execution_count": null,
      "outputs": []
    },
    {
      "cell_type": "code",
      "source": [
        "test"
      ],
      "metadata": {
        "id": "KTDzvKyo8gFV"
      },
      "execution_count": null,
      "outputs": []
    },
    {
      "cell_type": "code",
      "source": [
        "test"
      ],
      "metadata": {
        "id": "EEJ31f5p8gHh"
      },
      "execution_count": null,
      "outputs": []
    },
    {
      "cell_type": "code",
      "source": [
        "test"
      ],
      "metadata": {
        "id": "Gkl6UTPz8gJj"
      },
      "execution_count": null,
      "outputs": []
    },
    {
      "cell_type": "code",
      "source": [
        "test"
      ],
      "metadata": {
        "id": "cPRMlnQX8gLs"
      },
      "execution_count": null,
      "outputs": []
    },
    {
      "cell_type": "code",
      "source": [
        "test"
      ],
      "metadata": {
        "id": "uiMU_b528gQk"
      },
      "execution_count": null,
      "outputs": []
    },
    {
      "cell_type": "code",
      "source": [
        "test"
      ],
      "metadata": {
        "id": "A7NxqNp4-yxZ"
      },
      "execution_count": null,
      "outputs": []
    },
    {
      "cell_type": "code",
      "source": [
        "test"
      ],
      "metadata": {
        "id": "lrOtTvKF-y1j"
      },
      "execution_count": null,
      "outputs": []
    },
    {
      "cell_type": "code",
      "source": [
        "test"
      ],
      "metadata": {
        "id": "P2ObThmF-y4M"
      },
      "execution_count": null,
      "outputs": []
    },
    {
      "cell_type": "code",
      "source": [
        "test"
      ],
      "metadata": {
        "id": "nw0A_NrU-y6v"
      },
      "execution_count": null,
      "outputs": []
    },
    {
      "cell_type": "code",
      "source": [
        "test"
      ],
      "metadata": {
        "id": "iPbehO08-y9R"
      },
      "execution_count": null,
      "outputs": []
    },
    {
      "cell_type": "code",
      "source": [
        "test"
      ],
      "metadata": {
        "id": "DiXamQZt-zAZ"
      },
      "execution_count": null,
      "outputs": []
    },
    {
      "cell_type": "code",
      "source": [
        "test"
      ],
      "metadata": {
        "id": "6PX9SSee-zC5"
      },
      "execution_count": null,
      "outputs": []
    },
    {
      "cell_type": "code",
      "source": [
        "test"
      ],
      "metadata": {
        "id": "H75qJlRY-zFu"
      },
      "execution_count": null,
      "outputs": []
    },
    {
      "cell_type": "code",
      "source": [
        "test"
      ],
      "metadata": {
        "id": "FQw7LHcA-1rB"
      },
      "execution_count": null,
      "outputs": []
    },
    {
      "cell_type": "code",
      "source": [
        "test"
      ],
      "metadata": {
        "id": "wvSyKG8w-10F"
      },
      "execution_count": null,
      "outputs": []
    },
    {
      "cell_type": "code",
      "source": [
        "test"
      ],
      "metadata": {
        "id": "ge9ct-xZ-11r"
      },
      "execution_count": null,
      "outputs": []
    },
    {
      "cell_type": "code",
      "source": [
        "test"
      ],
      "metadata": {
        "id": "cqKY6pmq-13O"
      },
      "execution_count": null,
      "outputs": []
    },
    {
      "cell_type": "code",
      "source": [
        "test"
      ],
      "metadata": {
        "id": "_JQmnNHL-142"
      },
      "execution_count": null,
      "outputs": []
    },
    {
      "cell_type": "code",
      "source": [
        "test"
      ],
      "metadata": {
        "id": "x93cSH5P-16d"
      },
      "execution_count": null,
      "outputs": []
    },
    {
      "cell_type": "code",
      "source": [
        "test"
      ],
      "metadata": {
        "id": "2ak2ZhCV-18K"
      },
      "execution_count": null,
      "outputs": []
    },
    {
      "cell_type": "code",
      "source": [
        "test"
      ],
      "metadata": {
        "id": "7UNqEid3-19x"
      },
      "execution_count": null,
      "outputs": []
    },
    {
      "cell_type": "code",
      "source": [
        "test"
      ],
      "metadata": {
        "id": "zgaPtb9P-1_V"
      },
      "execution_count": null,
      "outputs": []
    },
    {
      "cell_type": "code",
      "source": [
        "test"
      ],
      "metadata": {
        "id": "zWLOeHPn-2BT"
      },
      "execution_count": null,
      "outputs": []
    },
    {
      "cell_type": "code",
      "source": [
        "test"
      ],
      "metadata": {
        "id": "MQPcF7MJ-2C4"
      },
      "execution_count": null,
      "outputs": []
    },
    {
      "cell_type": "code",
      "source": [
        "test"
      ],
      "metadata": {
        "id": "JvDap0EH-2EW"
      },
      "execution_count": null,
      "outputs": []
    },
    {
      "cell_type": "code",
      "source": [
        "test"
      ],
      "metadata": {
        "id": "9xEWT3NY-2G3"
      },
      "execution_count": null,
      "outputs": []
    },
    {
      "cell_type": "code",
      "source": [
        "test"
      ],
      "metadata": {
        "id": "tUeiPfvL-2I8"
      },
      "execution_count": null,
      "outputs": []
    },
    {
      "cell_type": "code",
      "source": [
        "test"
      ],
      "metadata": {
        "id": "_APcA_OR-2Kz"
      },
      "execution_count": null,
      "outputs": []
    },
    {
      "cell_type": "code",
      "source": [
        "test"
      ],
      "metadata": {
        "id": "8o-9ONFm-2MP"
      },
      "execution_count": null,
      "outputs": []
    },
    {
      "cell_type": "code",
      "source": [
        "test"
      ],
      "metadata": {
        "id": "gmc3gNhO-2O8"
      },
      "execution_count": null,
      "outputs": []
    },
    {
      "cell_type": "code",
      "source": [
        "test"
      ],
      "metadata": {
        "id": "Vv9xIXUT-2Qb"
      },
      "execution_count": null,
      "outputs": []
    },
    {
      "cell_type": "code",
      "source": [
        "test"
      ],
      "metadata": {
        "id": "Xela9n02-2R7"
      },
      "execution_count": null,
      "outputs": []
    },
    {
      "cell_type": "code",
      "source": [
        "test"
      ],
      "metadata": {
        "id": "PcRBwlZ6-2Ts"
      },
      "execution_count": null,
      "outputs": []
    },
    {
      "cell_type": "code",
      "source": [
        "test"
      ],
      "metadata": {
        "id": "wJZMDhZ9-2VZ"
      },
      "execution_count": null,
      "outputs": []
    },
    {
      "cell_type": "code",
      "source": [
        "test"
      ],
      "metadata": {
        "id": "M55sKK3v-2Zc"
      },
      "execution_count": null,
      "outputs": []
    },
    {
      "cell_type": "code",
      "source": [
        "test"
      ],
      "metadata": {
        "id": "hMUaSxbu-2a7"
      },
      "execution_count": null,
      "outputs": []
    },
    {
      "cell_type": "code",
      "source": [
        "test"
      ],
      "metadata": {
        "id": "Xrew0k_U-2cf"
      },
      "execution_count": null,
      "outputs": []
    },
    {
      "cell_type": "code",
      "source": [
        "test"
      ],
      "metadata": {
        "id": "_hdVKOci-2ef"
      },
      "execution_count": null,
      "outputs": []
    },
    {
      "cell_type": "code",
      "source": [
        "test"
      ],
      "metadata": {
        "id": "RKW2Mq7F-5Bt"
      },
      "execution_count": null,
      "outputs": []
    },
    {
      "cell_type": "code",
      "source": [
        "test"
      ],
      "metadata": {
        "id": "aMit38o7-5LB"
      },
      "execution_count": null,
      "outputs": []
    },
    {
      "cell_type": "code",
      "source": [
        "test"
      ],
      "metadata": {
        "id": "QJDRKHl_-5Mx"
      },
      "execution_count": null,
      "outputs": []
    },
    {
      "cell_type": "code",
      "source": [
        "test"
      ],
      "metadata": {
        "id": "1qHBdbn5-5OR"
      },
      "execution_count": null,
      "outputs": []
    },
    {
      "cell_type": "code",
      "source": [
        "test"
      ],
      "metadata": {
        "id": "TOJjFqqs-5Pp"
      },
      "execution_count": null,
      "outputs": []
    },
    {
      "cell_type": "code",
      "source": [
        "test"
      ],
      "metadata": {
        "id": "x-QfAalJ-5RH"
      },
      "execution_count": null,
      "outputs": []
    },
    {
      "cell_type": "code",
      "source": [
        "test"
      ],
      "metadata": {
        "id": "ZdN-j_gH-5TD"
      },
      "execution_count": null,
      "outputs": []
    },
    {
      "cell_type": "code",
      "source": [
        "test"
      ],
      "metadata": {
        "id": "gcqX7BMn-5Uj"
      },
      "execution_count": null,
      "outputs": []
    },
    {
      "cell_type": "code",
      "source": [
        "test"
      ],
      "metadata": {
        "id": "nJOQjZ5d-5XJ"
      },
      "execution_count": null,
      "outputs": []
    },
    {
      "cell_type": "code",
      "source": [
        "test"
      ],
      "metadata": {
        "id": "Rq5Tk8Px-5Yz"
      },
      "execution_count": null,
      "outputs": []
    },
    {
      "cell_type": "code",
      "source": [
        "test"
      ],
      "metadata": {
        "id": "M8pgBsEC-5aR"
      },
      "execution_count": null,
      "outputs": []
    },
    {
      "cell_type": "code",
      "source": [
        "test"
      ],
      "metadata": {
        "id": "Cky_AB64-5c0"
      },
      "execution_count": null,
      "outputs": []
    },
    {
      "cell_type": "code",
      "source": [
        "test"
      ],
      "metadata": {
        "id": "zHD4CpEU-5eN"
      },
      "execution_count": null,
      "outputs": []
    },
    {
      "cell_type": "code",
      "source": [
        "test"
      ],
      "metadata": {
        "id": "gk538Ouz-5gF"
      },
      "execution_count": null,
      "outputs": []
    },
    {
      "cell_type": "code",
      "source": [
        "test"
      ],
      "metadata": {
        "id": "RfWaZN_P-5iK"
      },
      "execution_count": null,
      "outputs": []
    },
    {
      "cell_type": "code",
      "source": [
        "test"
      ],
      "metadata": {
        "id": "vPC5-wdB-5lG"
      },
      "execution_count": null,
      "outputs": []
    },
    {
      "cell_type": "code",
      "source": [
        "test"
      ],
      "metadata": {
        "id": "cJPtKdhD-5mt"
      },
      "execution_count": null,
      "outputs": []
    },
    {
      "cell_type": "code",
      "source": [
        "test"
      ],
      "metadata": {
        "id": "_k5QNMms-5oW"
      },
      "execution_count": null,
      "outputs": []
    },
    {
      "cell_type": "code",
      "source": [
        "test"
      ],
      "metadata": {
        "id": "4XZsqC8L-5p-"
      },
      "execution_count": null,
      "outputs": []
    },
    {
      "cell_type": "code",
      "source": [
        "test"
      ],
      "metadata": {
        "id": "VKqOMkIY-5r0"
      },
      "execution_count": null,
      "outputs": []
    },
    {
      "cell_type": "code",
      "source": [
        "test"
      ],
      "metadata": {
        "id": "idQ3-T42-5vv"
      },
      "execution_count": null,
      "outputs": []
    },
    {
      "cell_type": "code",
      "source": [
        "test"
      ],
      "metadata": {
        "id": "QtqTrhmj-5xQ"
      },
      "execution_count": null,
      "outputs": []
    },
    {
      "cell_type": "code",
      "source": [
        "test"
      ],
      "metadata": {
        "id": "SvmXmDF5-5y0"
      },
      "execution_count": null,
      "outputs": []
    },
    {
      "cell_type": "code",
      "source": [
        "test"
      ],
      "metadata": {
        "id": "3sq_tCwQ-50X"
      },
      "execution_count": null,
      "outputs": []
    },
    {
      "cell_type": "code",
      "source": [
        "test"
      ],
      "metadata": {
        "id": "f3-JZ_ya-54b"
      },
      "execution_count": null,
      "outputs": []
    },
    {
      "cell_type": "code",
      "source": [
        "test"
      ],
      "metadata": {
        "id": "i98uml6k-559"
      },
      "execution_count": null,
      "outputs": []
    },
    {
      "cell_type": "code",
      "source": [
        "test"
      ],
      "metadata": {
        "id": "Z0mMoZrP-57p"
      },
      "execution_count": null,
      "outputs": []
    },
    {
      "cell_type": "code",
      "source": [
        "test"
      ],
      "metadata": {
        "id": "CDoE-sMq-59m"
      },
      "execution_count": null,
      "outputs": []
    },
    {
      "cell_type": "code",
      "source": [
        "test"
      ],
      "metadata": {
        "id": "PaGjxRr9-5_z"
      },
      "execution_count": null,
      "outputs": []
    },
    {
      "cell_type": "code",
      "source": [
        "test"
      ],
      "metadata": {
        "id": "xu-DywTI-6F2"
      },
      "execution_count": null,
      "outputs": []
    },
    {
      "cell_type": "code",
      "source": [
        "test"
      ],
      "metadata": {
        "id": "oHakKQFV-6Hg"
      },
      "execution_count": null,
      "outputs": []
    },
    {
      "cell_type": "code",
      "source": [
        "test"
      ],
      "metadata": {
        "id": "NpPjGj3C-6Mi"
      },
      "execution_count": null,
      "outputs": []
    },
    {
      "cell_type": "code",
      "source": [
        "test"
      ],
      "metadata": {
        "id": "8363Ta_2-6ON"
      },
      "execution_count": null,
      "outputs": []
    },
    {
      "cell_type": "code",
      "source": [
        "test"
      ],
      "metadata": {
        "id": "q6UmILEH-6P6"
      },
      "execution_count": null,
      "outputs": []
    },
    {
      "cell_type": "code",
      "source": [
        "test"
      ],
      "metadata": {
        "id": "OKr-m9j5-6Ri"
      },
      "execution_count": null,
      "outputs": []
    },
    {
      "cell_type": "code",
      "source": [
        "test"
      ],
      "metadata": {
        "id": "UMmHWqSD-6TJ"
      },
      "execution_count": null,
      "outputs": []
    },
    {
      "cell_type": "code",
      "source": [
        "test"
      ],
      "metadata": {
        "id": "qEjRkpIv-6bo"
      },
      "execution_count": null,
      "outputs": []
    },
    {
      "cell_type": "code",
      "source": [
        "test"
      ],
      "metadata": {
        "id": "pV1qqnmP-6iC"
      },
      "execution_count": null,
      "outputs": []
    },
    {
      "cell_type": "code",
      "source": [
        "test"
      ],
      "metadata": {
        "id": "tyZoR07L-6j0"
      },
      "execution_count": null,
      "outputs": []
    },
    {
      "cell_type": "code",
      "source": [
        "test"
      ],
      "metadata": {
        "id": "2YLGhC9Q-6le"
      },
      "execution_count": null,
      "outputs": []
    },
    {
      "cell_type": "code",
      "source": [
        "test"
      ],
      "metadata": {
        "id": "XE36Q4O1-6nN"
      },
      "execution_count": null,
      "outputs": []
    },
    {
      "cell_type": "code",
      "source": [
        "test"
      ],
      "metadata": {
        "id": "wp5Xm0fg-6o3"
      },
      "execution_count": null,
      "outputs": []
    },
    {
      "cell_type": "code",
      "source": [
        "test"
      ],
      "metadata": {
        "id": "8TVns4r0-6qn"
      },
      "execution_count": null,
      "outputs": []
    },
    {
      "cell_type": "code",
      "source": [
        "test"
      ],
      "metadata": {
        "id": "JBbOwoKP-6sZ"
      },
      "execution_count": null,
      "outputs": []
    },
    {
      "cell_type": "code",
      "source": [
        "test"
      ],
      "metadata": {
        "id": "VOjzP17I-66l"
      },
      "execution_count": null,
      "outputs": []
    },
    {
      "cell_type": "code",
      "source": [
        "test"
      ],
      "metadata": {
        "id": "6dgniK5E-68Q"
      },
      "execution_count": null,
      "outputs": []
    },
    {
      "cell_type": "code",
      "source": [
        "test"
      ],
      "metadata": {
        "id": "EvJo6pPX-690"
      },
      "execution_count": null,
      "outputs": []
    },
    {
      "cell_type": "code",
      "source": [
        "test"
      ],
      "metadata": {
        "id": "H88ZwDsw-6_n"
      },
      "execution_count": null,
      "outputs": []
    },
    {
      "cell_type": "code",
      "source": [
        "test"
      ],
      "metadata": {
        "id": "wExZM-Vl-7BQ"
      },
      "execution_count": null,
      "outputs": []
    },
    {
      "cell_type": "code",
      "source": [
        "test"
      ],
      "metadata": {
        "id": "dL-p-Svk-7C-"
      },
      "execution_count": null,
      "outputs": []
    }
  ],
  "metadata": {
    "colab": {
      "provenance": []
    },
    "kernelspec": {
      "display_name": "Python 3 (ipykernel)",
      "language": "python",
      "name": "python3"
    },
    "language_info": {
      "codemirror_mode": {
        "name": "ipython",
        "version": 3
      },
      "file_extension": ".py",
      "mimetype": "text/x-python",
      "name": "python",
      "nbconvert_exporter": "python",
      "pygments_lexer": "ipython3",
      "version": "3.9.5"
    }
  },
  "nbformat": 4,
  "nbformat_minor": 0
}